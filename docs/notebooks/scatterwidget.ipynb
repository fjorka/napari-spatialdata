{
 "cells": [
  {
   "attachments": {},
   "cell_type": "markdown",
   "metadata": {},
   "source": [
    "# Use the Scatterwidget with AnnData from Notebook"
   ]
  },
  {
   "attachments": {},
   "cell_type": "markdown",
   "metadata": {},
   "source": [
    "This tutorial is an example of how to use the Napari-Spatialdata ScatterWidget from a notebook."
   ]
  },
  {
   "cell_type": "markdown",
   "metadata": {},
   "source": [
    "## Import packages and data"
   ]
  },
  {
   "attachments": {},
   "cell_type": "markdown",
   "metadata": {},
   "source": [
    "There are two options to install napari-spatialdata:\n",
    "\n",
    "(1) Run `pip install napari-spatialdata`\n",
    "\n",
    "or, \n",
    "\n",
    "(2) Clone this [repo](https://github.com/scverse/napari-spatialdata) and run `pip install -e .`"
   ]
  },
  {
   "cell_type": "code",
   "execution_count": 1,
   "metadata": {},
   "outputs": [],
   "source": [
    "%load_ext autoreload\n",
    "%autoreload 2\n",
    "\n",
    "from napari_spatialdata import QtAdataScatterWidget\n",
    "import squidpy as sq\n",
    "import matplotlib.pyplot as plt"
   ]
  },
  {
   "attachments": {},
   "cell_type": "markdown",
   "metadata": {},
   "source": [
    "Load in the AnnData:"
   ]
  },
  {
   "cell_type": "code",
   "execution_count": 2,
   "metadata": {},
   "outputs": [],
   "source": [
    "adata = sq.datasets.visium_hne_adata()"
   ]
  },
  {
   "attachments": {},
   "cell_type": "markdown",
   "metadata": {},
   "source": [
    "The following line is needed to initialize a widget without a QApplication:"
   ]
  },
  {
   "cell_type": "code",
   "execution_count": 3,
   "metadata": {},
   "outputs": [],
   "source": [
    "%gui qt5"
   ]
  },
  {
   "attachments": {},
   "cell_type": "markdown",
   "metadata": {},
   "source": [
    "Open the ScatterWidget:"
   ]
  },
  {
   "cell_type": "code",
   "execution_count": 5,
   "metadata": {},
   "outputs": [
    {
     "name": "stderr",
     "output_type": "stream",
     "text": [
      "WARNING: QWindowsWindow::setGeometry: Unable to set geometry 1401x1112+780+304 (frame: 1417x1151+772+273) on QWidgetWindow/\"_QtMainWindowClassWindow\" on \"\\\\.\\DISPLAY2\". Resulting geometry: 1401x1061+780+304 (frame: 1417x1100+772+273) margins: 8, 31, 8, 8 minimum size: 385x497 MINMAXINFO maxSize=0,0 maxpos=0,0 mintrack=401,536 maxtrack=0,0)\n"
     ]
    },
    {
     "name": "stderr",
     "output_type": "stream",
     "text": [
      "\u001b[32m2024-07-01 16:03:24.203\u001b[0m | \u001b[1mINFO    \u001b[0m | \u001b[36mnapari_spatialdata._scatterwidgets\u001b[0m:\u001b[36m_onClick\u001b[0m:\u001b[36m795\u001b[0m - \u001b[1mA change in x or y data has been detected.\u001b[0m\n",
      "\u001b[32m2024-07-01 16:03:24.203\u001b[0m | \u001b[1mINFO    \u001b[0m | \u001b[36mnapari_spatialdata._scatterwidgets\u001b[0m:\u001b[36mplot\u001b[0m:\u001b[36m837\u001b[0m - \u001b[1mGenerating scatter plot...\u001b[0m\n",
      "\u001b[32m2024-07-01 16:03:30.690\u001b[0m | \u001b[34m\u001b[1mDEBUG   \u001b[0m | \u001b[36mnapari_spatialdata._scatterwidgets\u001b[0m:\u001b[36mmousePressEvent\u001b[0m:\u001b[36m505\u001b[0m - \u001b[34m\u001b[1mLeft press detected\u001b[0m\n",
      "\u001b[32m2024-07-01 16:03:40.538\u001b[0m | \u001b[1mINFO    \u001b[0m | \u001b[36mnapari_spatialdata._scatterwidgets\u001b[0m:\u001b[36m_onOneClick\u001b[0m:\u001b[36m85\u001b[0m - \u001b[1m<napari_spatialdata._scatterwidgets.ScatterListWidget object at 0x00000247EEFE3A30> is calling action\u001b[0m\n",
      "\u001b[32m2024-07-01 16:03:42.383\u001b[0m | \u001b[1mINFO    \u001b[0m | \u001b[36mnapari_spatialdata._scatterwidgets\u001b[0m:\u001b[36mget_brushes\u001b[0m:\u001b[36m449\u001b[0m - \u001b[1mGenerating brushes...\u001b[0m\n",
      "\u001b[32m2024-07-01 16:03:42.411\u001b[0m | \u001b[1mINFO    \u001b[0m | \u001b[36mnapari_spatialdata._scatterwidgets\u001b[0m:\u001b[36mplot\u001b[0m:\u001b[36m837\u001b[0m - \u001b[1mGenerating scatter plot...\u001b[0m\n",
      "c:\\Users\\kmk280\\AppData\\Local\\miniconda3\\envs\\spatial-dev\\lib\\site-packages\\pyqtgraph\\graphicsItems\\PlotItem\\PlotItem.py:509: UserWarning: Item already added to PlotItem, ignoring.\n",
      "  warnings.warn('Item already added to PlotItem, ignoring.')\n",
      "\u001b[32m2024-07-01 16:03:43.339\u001b[0m | \u001b[1mINFO    \u001b[0m | \u001b[36mnapari_spatialdata._scatterwidgets\u001b[0m:\u001b[36mplot\u001b[0m:\u001b[36m837\u001b[0m - \u001b[1mGenerating scatter plot...\u001b[0m\n",
      "c:\\Users\\kmk280\\AppData\\Local\\miniconda3\\envs\\spatial-dev\\lib\\site-packages\\pyqtgraph\\graphicsItems\\PlotItem\\PlotItem.py:509: UserWarning: Item already added to PlotItem, ignoring.\n",
      "  warnings.warn('Item already added to PlotItem, ignoring.')\n",
      "\u001b[32m2024-07-01 16:03:54.890\u001b[0m | \u001b[34m\u001b[1mDEBUG   \u001b[0m | \u001b[36mnapari_spatialdata._scatterwidgets\u001b[0m:\u001b[36mmousePressEvent\u001b[0m:\u001b[36m505\u001b[0m - \u001b[34m\u001b[1mLeft press detected\u001b[0m\n",
      "\u001b[32m2024-07-01 16:03:54.891\u001b[0m | \u001b[1mINFO    \u001b[0m | \u001b[36mnapari_spatialdata._scatterwidgets\u001b[0m:\u001b[36mmousePressEvent\u001b[0m:\u001b[36m535\u001b[0m - \u001b[1mRectangle\u001b[0m\n",
      "\u001b[32m2024-07-01 16:04:01.595\u001b[0m | \u001b[1mINFO    \u001b[0m | \u001b[36mnapari_spatialdata._scatterwidgets\u001b[0m:\u001b[36m_onOneClick\u001b[0m:\u001b[36m85\u001b[0m - \u001b[1m<napari_spatialdata._scatterwidgets.ScatterListWidget object at 0x00000247EEFE3A30> is calling action\u001b[0m\n",
      "\u001b[32m2024-07-01 16:04:02.610\u001b[0m | \u001b[1mINFO    \u001b[0m | \u001b[36mnapari_spatialdata._scatterwidgets\u001b[0m:\u001b[36mget_brushes\u001b[0m:\u001b[36m449\u001b[0m - \u001b[1mGenerating brushes...\u001b[0m\n",
      "\u001b[32m2024-07-01 16:04:02.638\u001b[0m | \u001b[1mINFO    \u001b[0m | \u001b[36mnapari_spatialdata._scatterwidgets\u001b[0m:\u001b[36mplot\u001b[0m:\u001b[36m837\u001b[0m - \u001b[1mGenerating scatter plot...\u001b[0m\n",
      "c:\\Users\\kmk280\\AppData\\Local\\miniconda3\\envs\\spatial-dev\\lib\\site-packages\\pyqtgraph\\graphicsItems\\PlotItem\\PlotItem.py:509: UserWarning: Item already added to PlotItem, ignoring.\n",
      "  warnings.warn('Item already added to PlotItem, ignoring.')\n"
     ]
    }
   ],
   "source": [
    "widget = QtAdataScatterWidget(adata)\n",
    "widget.show()"
   ]
  },
  {
   "cell_type": "code",
   "execution_count": 21,
   "metadata": {},
   "outputs": [],
   "source": [
    "widget.plot_widget.scatter_plot.removeItem(widget.plot_widget.scatter)"
   ]
  },
  {
   "cell_type": "code",
   "execution_count": 12,
   "metadata": {},
   "outputs": [
    {
     "data": {
      "text/plain": [
       "pyqtgraph.graphicsItems.PlotDataItem.PlotDataItem"
      ]
     },
     "execution_count": 12,
     "metadata": {},
     "output_type": "execute_result"
    }
   ],
   "source": [
    "type(widget.plot_widget.scatter)"
   ]
  },
  {
   "cell_type": "code",
   "execution_count": 34,
   "metadata": {},
   "outputs": [
    {
     "data": {
      "text/plain": [
       "(2688, 2)"
      ]
     },
     "execution_count": 34,
     "metadata": {},
     "output_type": "execute_result"
    }
   ],
   "source": [
    "data = np.array([widget.x_widget.widget.data['vec'], widget.y_widget.widget.data['vec']]).T\n",
    "data.shape"
   ]
  },
  {
   "cell_type": "code",
   "execution_count": 36,
   "metadata": {},
   "outputs": [
    {
     "name": "stdout",
     "output_type": "stream",
     "text": [
      "CPU times: total: 0 ns\n",
      "Wall time: 544 μs\n"
     ]
    }
   ],
   "source": [
    "%%time\n",
    "kd_tree = cKDTree(data)"
   ]
  },
  {
   "cell_type": "code",
   "execution_count": 40,
   "metadata": {},
   "outputs": [
    {
     "data": {
      "text/plain": [
       "scipy.spatial._ckdtree.cKDTree"
      ]
     },
     "execution_count": 40,
     "metadata": {},
     "output_type": "execute_result"
    }
   ],
   "source": [
    "type(kd_tree)"
   ]
  },
  {
   "cell_type": "code",
   "execution_count": 38,
   "metadata": {},
   "outputs": [
    {
     "name": "stdout",
     "output_type": "stream",
     "text": [
      "10.816653826391969 998\n"
     ]
    }
   ],
   "source": [
    "dist, idx = kd_tree.query([6161, 4014], k=1)\n",
    "print(dist, idx)"
   ]
  },
  {
   "cell_type": "code",
   "execution_count": 39,
   "metadata": {},
   "outputs": [
    {
     "data": {
      "text/plain": [
       "array([6234, 4005], dtype=int64)"
      ]
     },
     "execution_count": 39,
     "metadata": {},
     "output_type": "execute_result"
    }
   ],
   "source": [
    "data[idx,:]"
   ]
  },
  {
   "cell_type": "code",
   "execution_count": 23,
   "metadata": {},
   "outputs": [
    {
     "name": "stdout",
     "output_type": "stream",
     "text": [
      "spatial\n",
      "obs\n",
      "0\n",
      "obsm\n"
     ]
    },
    {
     "data": {
      "text/plain": [
       "{'vec': array([8230, 4170, 2519, ..., 3276, 3069, 4720], dtype=int64)}"
      ]
     },
     "execution_count": 23,
     "metadata": {},
     "output_type": "execute_result"
    }
   ],
   "source": [
    "print(widget.x_widget.widget.chosen)\n",
    "print(widget.color_widget.widget.getAttribute())\n",
    "print(widget.x_widget.widget.text)\n",
    "print(widget.x_widget.widget._attr)\n",
    "widget.x_widget.widget.data"
   ]
  },
  {
   "cell_type": "code",
   "execution_count": null,
   "metadata": {},
   "outputs": [],
   "source": [
    "plt.imshow(widget.screenshot())\n",
    "plt.axis('off')"
   ]
  },
  {
   "attachments": {},
   "cell_type": "markdown",
   "metadata": {},
   "source": [
    "Some examples of scatterplots:"
   ]
  },
  {
   "cell_type": "code",
   "execution_count": null,
   "metadata": {},
   "outputs": [],
   "source": [
    "plt.imshow(widget.screenshot())\n",
    "plt.axis('off')"
   ]
  },
  {
   "cell_type": "code",
   "execution_count": null,
   "metadata": {},
   "outputs": [],
   "source": [
    "plt.imshow(widget.screenshot())\n",
    "plt.axis('off')"
   ]
  }
 ],
 "metadata": {
  "kernelspec": {
   "display_name": "napari",
   "language": "python",
   "name": "python3"
  },
  "language_info": {
   "codemirror_mode": {
    "name": "ipython",
    "version": 3
   },
   "file_extension": ".py",
   "mimetype": "text/x-python",
   "name": "python",
   "nbconvert_exporter": "python",
   "pygments_lexer": "ipython3",
   "version": "3.10.14"
  },
  "orig_nbformat": 4
 },
 "nbformat": 4,
 "nbformat_minor": 2
}
