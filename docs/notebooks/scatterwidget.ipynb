{
 "cells": [
  {
   "attachments": {},
   "cell_type": "markdown",
   "metadata": {},
   "source": [
    "# Use the Scatterwidget with AnnData from Notebook"
   ]
  },
  {
   "attachments": {},
   "cell_type": "markdown",
   "metadata": {},
   "source": [
    "This tutorial is an example of how to use the Napari-Spatialdata ScatterWidget from a notebook."
   ]
  },
  {
   "cell_type": "markdown",
   "metadata": {},
   "source": [
    "## Import packages and data"
   ]
  },
  {
   "attachments": {},
   "cell_type": "markdown",
   "metadata": {},
   "source": [
    "There are two options to install napari-spatialdata:\n",
    "\n",
    "(1) Run `pip install napari-spatialdata`\n",
    "\n",
    "or, \n",
    "\n",
    "(2) Clone this [repo](https://github.com/scverse/napari-spatialdata) and run `pip install -e .`"
   ]
  },
  {
   "cell_type": "code",
   "execution_count": 1,
   "metadata": {},
   "outputs": [],
   "source": [
    "%load_ext autoreload\n",
    "%autoreload 2\n",
    "\n",
    "from napari_spatialdata import QtAdataScatterWidget\n",
    "import squidpy as sq\n",
    "import matplotlib.pyplot as plt"
   ]
  },
  {
   "attachments": {},
   "cell_type": "markdown",
   "metadata": {},
   "source": [
    "Load in the AnnData:"
   ]
  },
  {
   "cell_type": "code",
   "execution_count": 2,
   "metadata": {},
   "outputs": [],
   "source": [
    "adata = sq.datasets.visium_hne_adata()"
   ]
  },
  {
   "attachments": {},
   "cell_type": "markdown",
   "metadata": {},
   "source": [
    "The following line is needed to initialize a widget without a QApplication:"
   ]
  },
  {
   "cell_type": "code",
   "execution_count": 3,
   "metadata": {},
   "outputs": [],
   "source": [
    "%gui qt5"
   ]
  },
  {
   "attachments": {},
   "cell_type": "markdown",
   "metadata": {},
   "source": [
    "Open the ScatterWidget:"
   ]
  },
  {
   "cell_type": "code",
   "execution_count": null,
   "metadata": {},
   "outputs": [
    {
     "name": "stderr",
     "output_type": "stream",
     "text": [
      "\u001b[32m2024-07-23 20:34:09.512\u001b[0m | \u001b[34m\u001b[1mDEBUG   \u001b[0m | \u001b[36mnapari_spatialdata._scatterwidgets\u001b[0m:\u001b[36mmouseMoveEvent\u001b[0m:\u001b[36m913\u001b[0m - \u001b[34m\u001b[1mMovement detected\u001b[0m\n",
      "\u001b[32m2024-07-23 20:34:09.513\u001b[0m | \u001b[34m\u001b[1mDEBUG   \u001b[0m | \u001b[36mnapari_spatialdata._scatterwidgets\u001b[0m:\u001b[36mmouseMoveEvent\u001b[0m:\u001b[36m913\u001b[0m - \u001b[34m\u001b[1mMovement detected\u001b[0m\n",
      "\u001b[32m2024-07-23 20:34:09.529\u001b[0m | \u001b[34m\u001b[1mDEBUG   \u001b[0m | \u001b[36mnapari_spatialdata._scatterwidgets\u001b[0m:\u001b[36mmouseMoveEvent\u001b[0m:\u001b[36m913\u001b[0m - \u001b[34m\u001b[1mMovement detected\u001b[0m\n",
      "\u001b[32m2024-07-23 20:34:09.532\u001b[0m | \u001b[34m\u001b[1mDEBUG   \u001b[0m | \u001b[36mnapari_spatialdata._scatterwidgets\u001b[0m:\u001b[36mmouseMoveEvent\u001b[0m:\u001b[36m913\u001b[0m - \u001b[34m\u001b[1mMovement detected\u001b[0m\n",
      "\u001b[32m2024-07-23 20:34:09.532\u001b[0m | \u001b[34m\u001b[1mDEBUG   \u001b[0m | \u001b[36mnapari_spatialdata._scatterwidgets\u001b[0m:\u001b[36mmouseMoveEvent\u001b[0m:\u001b[36m913\u001b[0m - \u001b[34m\u001b[1mMovement detected\u001b[0m\n",
      "\u001b[32m2024-07-23 20:34:09.534\u001b[0m | \u001b[34m\u001b[1mDEBUG   \u001b[0m | \u001b[36mnapari_spatialdata._scatterwidgets\u001b[0m:\u001b[36mmouseMoveEvent\u001b[0m:\u001b[36m913\u001b[0m - \u001b[34m\u001b[1mMovement detected\u001b[0m\n",
      "\u001b[32m2024-07-23 20:34:09.540\u001b[0m | \u001b[34m\u001b[1mDEBUG   \u001b[0m | \u001b[36mnapari_spatialdata._scatterwidgets\u001b[0m:\u001b[36mmouseMoveEvent\u001b[0m:\u001b[36m913\u001b[0m - \u001b[34m\u001b[1mMovement detected\u001b[0m\n",
      "\u001b[32m2024-07-23 20:34:09.543\u001b[0m | \u001b[34m\u001b[1mDEBUG   \u001b[0m | \u001b[36mnapari_spatialdata._scatterwidgets\u001b[0m:\u001b[36mmouseMoveEvent\u001b[0m:\u001b[36m913\u001b[0m - \u001b[34m\u001b[1mMovement detected\u001b[0m\n",
      "\u001b[32m2024-07-23 20:34:09.543\u001b[0m | \u001b[34m\u001b[1mDEBUG   \u001b[0m | \u001b[36mnapari_spatialdata._scatterwidgets\u001b[0m:\u001b[36mmouseMoveEvent\u001b[0m:\u001b[36m913\u001b[0m - \u001b[34m\u001b[1mMovement detected\u001b[0m\n",
      "\u001b[32m2024-07-23 20:34:09.545\u001b[0m | \u001b[34m\u001b[1mDEBUG   \u001b[0m | \u001b[36mnapari_spatialdata._scatterwidgets\u001b[0m:\u001b[36mmouseMoveEvent\u001b[0m:\u001b[36m913\u001b[0m - \u001b[34m\u001b[1mMovement detected\u001b[0m\n",
      "\u001b[32m2024-07-23 20:34:09.944\u001b[0m | \u001b[34m\u001b[1mDEBUG   \u001b[0m | \u001b[36mnapari_spatialdata._scatterwidgets\u001b[0m:\u001b[36mmouseMoveEvent\u001b[0m:\u001b[36m913\u001b[0m - \u001b[34m\u001b[1mMovement detected\u001b[0m\n",
      "\u001b[32m2024-07-23 20:34:09.945\u001b[0m | \u001b[34m\u001b[1mDEBUG   \u001b[0m | \u001b[36mnapari_spatialdata._scatterwidgets\u001b[0m:\u001b[36mmouseMoveEvent\u001b[0m:\u001b[36m913\u001b[0m - \u001b[34m\u001b[1mMovement detected\u001b[0m\n",
      "\u001b[32m2024-07-23 20:34:09.946\u001b[0m | \u001b[34m\u001b[1mDEBUG   \u001b[0m | \u001b[36mnapari_spatialdata._scatterwidgets\u001b[0m:\u001b[36mmouseMoveEvent\u001b[0m:\u001b[36m913\u001b[0m - \u001b[34m\u001b[1mMovement detected\u001b[0m\n",
      "\u001b[32m2024-07-23 20:34:09.952\u001b[0m | \u001b[34m\u001b[1mDEBUG   \u001b[0m | \u001b[36mnapari_spatialdata._scatterwidgets\u001b[0m:\u001b[36mmouseMoveEvent\u001b[0m:\u001b[36m913\u001b[0m - \u001b[34m\u001b[1mMovement detected\u001b[0m\n",
      "\u001b[32m2024-07-23 20:34:09.960\u001b[0m | \u001b[34m\u001b[1mDEBUG   \u001b[0m | \u001b[36mnapari_spatialdata._scatterwidgets\u001b[0m:\u001b[36mmouseMoveEvent\u001b[0m:\u001b[36m913\u001b[0m - \u001b[34m\u001b[1mMovement detected\u001b[0m\n",
      "\u001b[32m2024-07-23 20:34:09.960\u001b[0m | \u001b[34m\u001b[1mDEBUG   \u001b[0m | \u001b[36mnapari_spatialdata._scatterwidgets\u001b[0m:\u001b[36mmouseMoveEvent\u001b[0m:\u001b[36m913\u001b[0m - \u001b[34m\u001b[1mMovement detected\u001b[0m\n",
      "\u001b[32m2024-07-23 20:34:09.962\u001b[0m | \u001b[34m\u001b[1mDEBUG   \u001b[0m | \u001b[36mnapari_spatialdata._scatterwidgets\u001b[0m:\u001b[36mmouseMoveEvent\u001b[0m:\u001b[36m913\u001b[0m - \u001b[34m\u001b[1mMovement detected\u001b[0m\n",
      "\u001b[32m2024-07-23 20:34:09.970\u001b[0m | \u001b[34m\u001b[1mDEBUG   \u001b[0m | \u001b[36mnapari_spatialdata._scatterwidgets\u001b[0m:\u001b[36mmouseMoveEvent\u001b[0m:\u001b[36m913\u001b[0m - \u001b[34m\u001b[1mMovement detected\u001b[0m\n",
      "\u001b[32m2024-07-23 20:34:09.971\u001b[0m | \u001b[34m\u001b[1mDEBUG   \u001b[0m | \u001b[36mnapari_spatialdata._scatterwidgets\u001b[0m:\u001b[36mmouseMoveEvent\u001b[0m:\u001b[36m913\u001b[0m - \u001b[34m\u001b[1mMovement detected\u001b[0m\n",
      "\u001b[32m2024-07-23 20:34:09.973\u001b[0m | \u001b[34m\u001b[1mDEBUG   \u001b[0m | \u001b[36mnapari_spatialdata._scatterwidgets\u001b[0m:\u001b[36mmouseMoveEvent\u001b[0m:\u001b[36m913\u001b[0m - \u001b[34m\u001b[1mMovement detected\u001b[0m\n",
      "\u001b[32m2024-07-23 20:34:09.977\u001b[0m | \u001b[34m\u001b[1mDEBUG   \u001b[0m | \u001b[36mnapari_spatialdata._scatterwidgets\u001b[0m:\u001b[36mmouseMoveEvent\u001b[0m:\u001b[36m913\u001b[0m - \u001b[34m\u001b[1mMovement detected\u001b[0m\n",
      "\u001b[32m2024-07-23 20:34:09.982\u001b[0m | \u001b[34m\u001b[1mDEBUG   \u001b[0m | \u001b[36mnapari_spatialdata._scatterwidgets\u001b[0m:\u001b[36mmouseMoveEvent\u001b[0m:\u001b[36m913\u001b[0m - \u001b[34m\u001b[1mMovement detected\u001b[0m\n",
      "\u001b[32m2024-07-23 20:34:09.982\u001b[0m | \u001b[34m\u001b[1mDEBUG   \u001b[0m | \u001b[36mnapari_spatialdata._scatterwidgets\u001b[0m:\u001b[36mmouseMoveEvent\u001b[0m:\u001b[36m913\u001b[0m - \u001b[34m\u001b[1mMovement detected\u001b[0m\n",
      "\u001b[32m2024-07-23 20:34:09.985\u001b[0m | \u001b[34m\u001b[1mDEBUG   \u001b[0m | \u001b[36mnapari_spatialdata._scatterwidgets\u001b[0m:\u001b[36mmouseMoveEvent\u001b[0m:\u001b[36m913\u001b[0m - \u001b[34m\u001b[1mMovement detected\u001b[0m\n",
      "\u001b[32m2024-07-23 20:34:09.997\u001b[0m | \u001b[34m\u001b[1mDEBUG   \u001b[0m | \u001b[36mnapari_spatialdata._scatterwidgets\u001b[0m:\u001b[36mmouseMoveEvent\u001b[0m:\u001b[36m913\u001b[0m - \u001b[34m\u001b[1mMovement detected\u001b[0m\n",
      "\u001b[32m2024-07-23 20:34:09.998\u001b[0m | \u001b[34m\u001b[1mDEBUG   \u001b[0m | \u001b[36mnapari_spatialdata._scatterwidgets\u001b[0m:\u001b[36mmouseMoveEvent\u001b[0m:\u001b[36m913\u001b[0m - \u001b[34m\u001b[1mMovement detected\u001b[0m\n",
      "\u001b[32m2024-07-23 20:34:09.999\u001b[0m | \u001b[34m\u001b[1mDEBUG   \u001b[0m | \u001b[36mnapari_spatialdata._scatterwidgets\u001b[0m:\u001b[36mmouseMoveEvent\u001b[0m:\u001b[36m913\u001b[0m - \u001b[34m\u001b[1mMovement detected\u001b[0m\n",
      "\u001b[32m2024-07-23 20:34:10.005\u001b[0m | \u001b[34m\u001b[1mDEBUG   \u001b[0m | \u001b[36mnapari_spatialdata._scatterwidgets\u001b[0m:\u001b[36mmouseMoveEvent\u001b[0m:\u001b[36m913\u001b[0m - \u001b[34m\u001b[1mMovement detected\u001b[0m\n",
      "\u001b[32m2024-07-23 20:34:10.011\u001b[0m | \u001b[34m\u001b[1mDEBUG   \u001b[0m | \u001b[36mnapari_spatialdata._scatterwidgets\u001b[0m:\u001b[36mmouseMoveEvent\u001b[0m:\u001b[36m913\u001b[0m - \u001b[34m\u001b[1mMovement detected\u001b[0m\n",
      "\u001b[32m2024-07-23 20:34:10.011\u001b[0m | \u001b[34m\u001b[1mDEBUG   \u001b[0m | \u001b[36mnapari_spatialdata._scatterwidgets\u001b[0m:\u001b[36mmouseMoveEvent\u001b[0m:\u001b[36m913\u001b[0m - \u001b[34m\u001b[1mMovement detected\u001b[0m\n",
      "\u001b[32m2024-07-23 20:34:10.014\u001b[0m | \u001b[34m\u001b[1mDEBUG   \u001b[0m | \u001b[36mnapari_spatialdata._scatterwidgets\u001b[0m:\u001b[36mmouseMoveEvent\u001b[0m:\u001b[36m913\u001b[0m - \u001b[34m\u001b[1mMovement detected\u001b[0m\n",
      "\u001b[32m2024-07-23 20:34:10.018\u001b[0m | \u001b[34m\u001b[1mDEBUG   \u001b[0m | \u001b[36mnapari_spatialdata._scatterwidgets\u001b[0m:\u001b[36mmouseMoveEvent\u001b[0m:\u001b[36m913\u001b[0m - \u001b[34m\u001b[1mMovement detected\u001b[0m\n",
      "\u001b[32m2024-07-23 20:34:10.024\u001b[0m | \u001b[34m\u001b[1mDEBUG   \u001b[0m | \u001b[36mnapari_spatialdata._scatterwidgets\u001b[0m:\u001b[36mmouseMoveEvent\u001b[0m:\u001b[36m913\u001b[0m - \u001b[34m\u001b[1mMovement detected\u001b[0m\n",
      "\u001b[32m2024-07-23 20:34:10.025\u001b[0m | \u001b[34m\u001b[1mDEBUG   \u001b[0m | \u001b[36mnapari_spatialdata._scatterwidgets\u001b[0m:\u001b[36mmouseMoveEvent\u001b[0m:\u001b[36m913\u001b[0m - \u001b[34m\u001b[1mMovement detected\u001b[0m\n",
      "\u001b[32m2024-07-23 20:34:10.027\u001b[0m | \u001b[34m\u001b[1mDEBUG   \u001b[0m | \u001b[36mnapari_spatialdata._scatterwidgets\u001b[0m:\u001b[36mmouseMoveEvent\u001b[0m:\u001b[36m913\u001b[0m - \u001b[34m\u001b[1mMovement detected\u001b[0m\n",
      "\u001b[32m2024-07-23 20:34:10.031\u001b[0m | \u001b[34m\u001b[1mDEBUG   \u001b[0m | \u001b[36mnapari_spatialdata._scatterwidgets\u001b[0m:\u001b[36mmouseMoveEvent\u001b[0m:\u001b[36m913\u001b[0m - \u001b[34m\u001b[1mMovement detected\u001b[0m\n",
      "\u001b[32m2024-07-23 20:34:10.038\u001b[0m | \u001b[34m\u001b[1mDEBUG   \u001b[0m | \u001b[36mnapari_spatialdata._scatterwidgets\u001b[0m:\u001b[36mmouseMoveEvent\u001b[0m:\u001b[36m913\u001b[0m - \u001b[34m\u001b[1mMovement detected\u001b[0m\n",
      "\u001b[32m2024-07-23 20:34:10.039\u001b[0m | \u001b[34m\u001b[1mDEBUG   \u001b[0m | \u001b[36mnapari_spatialdata._scatterwidgets\u001b[0m:\u001b[36mmouseMoveEvent\u001b[0m:\u001b[36m913\u001b[0m - \u001b[34m\u001b[1mMovement detected\u001b[0m\n",
      "\u001b[32m2024-07-23 20:34:10.041\u001b[0m | \u001b[34m\u001b[1mDEBUG   \u001b[0m | \u001b[36mnapari_spatialdata._scatterwidgets\u001b[0m:\u001b[36mmouseMoveEvent\u001b[0m:\u001b[36m913\u001b[0m - \u001b[34m\u001b[1mMovement detected\u001b[0m\n",
      "\u001b[32m2024-07-23 20:34:10.046\u001b[0m | \u001b[34m\u001b[1mDEBUG   \u001b[0m | \u001b[36mnapari_spatialdata._scatterwidgets\u001b[0m:\u001b[36mmouseMoveEvent\u001b[0m:\u001b[36m913\u001b[0m - \u001b[34m\u001b[1mMovement detected\u001b[0m\n",
      "\u001b[32m2024-07-23 20:34:10.053\u001b[0m | \u001b[34m\u001b[1mDEBUG   \u001b[0m | \u001b[36mnapari_spatialdata._scatterwidgets\u001b[0m:\u001b[36mmouseMoveEvent\u001b[0m:\u001b[36m913\u001b[0m - \u001b[34m\u001b[1mMovement detected\u001b[0m\n",
      "\u001b[32m2024-07-23 20:34:10.054\u001b[0m | \u001b[34m\u001b[1mDEBUG   \u001b[0m | \u001b[36mnapari_spatialdata._scatterwidgets\u001b[0m:\u001b[36mmouseMoveEvent\u001b[0m:\u001b[36m913\u001b[0m - \u001b[34m\u001b[1mMovement detected\u001b[0m\n",
      "\u001b[32m2024-07-23 20:34:10.055\u001b[0m | \u001b[34m\u001b[1mDEBUG   \u001b[0m | \u001b[36mnapari_spatialdata._scatterwidgets\u001b[0m:\u001b[36mmouseMoveEvent\u001b[0m:\u001b[36m913\u001b[0m - \u001b[34m\u001b[1mMovement detected\u001b[0m\n",
      "\u001b[32m2024-07-23 20:34:10.063\u001b[0m | \u001b[34m\u001b[1mDEBUG   \u001b[0m | \u001b[36mnapari_spatialdata._scatterwidgets\u001b[0m:\u001b[36mmouseMoveEvent\u001b[0m:\u001b[36m913\u001b[0m - \u001b[34m\u001b[1mMovement detected\u001b[0m\n",
      "\u001b[32m2024-07-23 20:34:10.064\u001b[0m | \u001b[34m\u001b[1mDEBUG   \u001b[0m | \u001b[36mnapari_spatialdata._scatterwidgets\u001b[0m:\u001b[36mmouseMoveEvent\u001b[0m:\u001b[36m913\u001b[0m - \u001b[34m\u001b[1mMovement detected\u001b[0m\n",
      "\u001b[32m2024-07-23 20:34:10.066\u001b[0m | \u001b[34m\u001b[1mDEBUG   \u001b[0m | \u001b[36mnapari_spatialdata._scatterwidgets\u001b[0m:\u001b[36mmouseMoveEvent\u001b[0m:\u001b[36m913\u001b[0m - \u001b[34m\u001b[1mMovement detected\u001b[0m\n",
      "\u001b[32m2024-07-23 20:34:10.070\u001b[0m | \u001b[34m\u001b[1mDEBUG   \u001b[0m | \u001b[36mnapari_spatialdata._scatterwidgets\u001b[0m:\u001b[36mmouseMoveEvent\u001b[0m:\u001b[36m913\u001b[0m - \u001b[34m\u001b[1mMovement detected\u001b[0m\n",
      "\u001b[32m2024-07-23 20:34:10.081\u001b[0m | \u001b[34m\u001b[1mDEBUG   \u001b[0m | \u001b[36mnapari_spatialdata._scatterwidgets\u001b[0m:\u001b[36mmouseMoveEvent\u001b[0m:\u001b[36m913\u001b[0m - \u001b[34m\u001b[1mMovement detected\u001b[0m\n",
      "\u001b[32m2024-07-23 20:34:10.081\u001b[0m | \u001b[34m\u001b[1mDEBUG   \u001b[0m | \u001b[36mnapari_spatialdata._scatterwidgets\u001b[0m:\u001b[36mmouseMoveEvent\u001b[0m:\u001b[36m913\u001b[0m - \u001b[34m\u001b[1mMovement detected\u001b[0m\n",
      "\u001b[32m2024-07-23 20:34:10.083\u001b[0m | \u001b[34m\u001b[1mDEBUG   \u001b[0m | \u001b[36mnapari_spatialdata._scatterwidgets\u001b[0m:\u001b[36mmouseMoveEvent\u001b[0m:\u001b[36m913\u001b[0m - \u001b[34m\u001b[1mMovement detected\u001b[0m\n",
      "\u001b[32m2024-07-23 20:34:10.489\u001b[0m | \u001b[34m\u001b[1mDEBUG   \u001b[0m | \u001b[36mnapari_spatialdata._scatterwidgets\u001b[0m:\u001b[36mmouseMoveEvent\u001b[0m:\u001b[36m913\u001b[0m - \u001b[34m\u001b[1mMovement detected\u001b[0m\n",
      "\u001b[32m2024-07-23 20:34:10.490\u001b[0m | \u001b[34m\u001b[1mDEBUG   \u001b[0m | \u001b[36mnapari_spatialdata._scatterwidgets\u001b[0m:\u001b[36mmouseMoveEvent\u001b[0m:\u001b[36m913\u001b[0m - \u001b[34m\u001b[1mMovement detected\u001b[0m\n",
      "\u001b[32m2024-07-23 20:34:10.492\u001b[0m | \u001b[34m\u001b[1mDEBUG   \u001b[0m | \u001b[36mnapari_spatialdata._scatterwidgets\u001b[0m:\u001b[36mmouseMoveEvent\u001b[0m:\u001b[36m913\u001b[0m - \u001b[34m\u001b[1mMovement detected\u001b[0m\n",
      "\u001b[32m2024-07-23 20:34:10.510\u001b[0m | \u001b[34m\u001b[1mDEBUG   \u001b[0m | \u001b[36mnapari_spatialdata._scatterwidgets\u001b[0m:\u001b[36mmouseMoveEvent\u001b[0m:\u001b[36m913\u001b[0m - \u001b[34m\u001b[1mMovement detected\u001b[0m\n",
      "\u001b[32m2024-07-23 20:34:10.511\u001b[0m | \u001b[34m\u001b[1mDEBUG   \u001b[0m | \u001b[36mnapari_spatialdata._scatterwidgets\u001b[0m:\u001b[36mmouseMoveEvent\u001b[0m:\u001b[36m913\u001b[0m - \u001b[34m\u001b[1mMovement detected\u001b[0m\n",
      "\u001b[32m2024-07-23 20:34:10.512\u001b[0m | \u001b[34m\u001b[1mDEBUG   \u001b[0m | \u001b[36mnapari_spatialdata._scatterwidgets\u001b[0m:\u001b[36mmouseMoveEvent\u001b[0m:\u001b[36m913\u001b[0m - \u001b[34m\u001b[1mMovement detected\u001b[0m\n",
      "\u001b[32m2024-07-23 20:34:10.522\u001b[0m | \u001b[34m\u001b[1mDEBUG   \u001b[0m | \u001b[36mnapari_spatialdata._scatterwidgets\u001b[0m:\u001b[36mmouseMoveEvent\u001b[0m:\u001b[36m913\u001b[0m - \u001b[34m\u001b[1mMovement detected\u001b[0m\n",
      "\u001b[32m2024-07-23 20:34:10.523\u001b[0m | \u001b[34m\u001b[1mDEBUG   \u001b[0m | \u001b[36mnapari_spatialdata._scatterwidgets\u001b[0m:\u001b[36mmouseMoveEvent\u001b[0m:\u001b[36m913\u001b[0m - \u001b[34m\u001b[1mMovement detected\u001b[0m\n",
      "\u001b[32m2024-07-23 20:34:10.525\u001b[0m | \u001b[34m\u001b[1mDEBUG   \u001b[0m | \u001b[36mnapari_spatialdata._scatterwidgets\u001b[0m:\u001b[36mmouseMoveEvent\u001b[0m:\u001b[36m913\u001b[0m - \u001b[34m\u001b[1mMovement detected\u001b[0m\n",
      "\u001b[32m2024-07-23 20:34:10.527\u001b[0m | \u001b[34m\u001b[1mDEBUG   \u001b[0m | \u001b[36mnapari_spatialdata._scatterwidgets\u001b[0m:\u001b[36mmouseMoveEvent\u001b[0m:\u001b[36m913\u001b[0m - \u001b[34m\u001b[1mMovement detected\u001b[0m\n",
      "\u001b[32m2024-07-23 20:34:10.535\u001b[0m | \u001b[34m\u001b[1mDEBUG   \u001b[0m | \u001b[36mnapari_spatialdata._scatterwidgets\u001b[0m:\u001b[36mmouseMoveEvent\u001b[0m:\u001b[36m913\u001b[0m - \u001b[34m\u001b[1mMovement detected\u001b[0m\n",
      "\u001b[32m2024-07-23 20:34:10.536\u001b[0m | \u001b[34m\u001b[1mDEBUG   \u001b[0m | \u001b[36mnapari_spatialdata._scatterwidgets\u001b[0m:\u001b[36mmouseMoveEvent\u001b[0m:\u001b[36m913\u001b[0m - \u001b[34m\u001b[1mMovement detected\u001b[0m\n",
      "\u001b[32m2024-07-23 20:34:10.538\u001b[0m | \u001b[34m\u001b[1mDEBUG   \u001b[0m | \u001b[36mnapari_spatialdata._scatterwidgets\u001b[0m:\u001b[36mmouseMoveEvent\u001b[0m:\u001b[36m913\u001b[0m - \u001b[34m\u001b[1mMovement detected\u001b[0m\n",
      "\u001b[32m2024-07-23 20:34:10.540\u001b[0m | \u001b[34m\u001b[1mDEBUG   \u001b[0m | \u001b[36mnapari_spatialdata._scatterwidgets\u001b[0m:\u001b[36mmouseMoveEvent\u001b[0m:\u001b[36m913\u001b[0m - \u001b[34m\u001b[1mMovement detected\u001b[0m\n",
      "\u001b[32m2024-07-23 20:34:10.545\u001b[0m | \u001b[34m\u001b[1mDEBUG   \u001b[0m | \u001b[36mnapari_spatialdata._scatterwidgets\u001b[0m:\u001b[36mmouseMoveEvent\u001b[0m:\u001b[36m913\u001b[0m - \u001b[34m\u001b[1mMovement detected\u001b[0m\n",
      "\u001b[32m2024-07-23 20:34:10.546\u001b[0m | \u001b[34m\u001b[1mDEBUG   \u001b[0m | \u001b[36mnapari_spatialdata._scatterwidgets\u001b[0m:\u001b[36mmouseMoveEvent\u001b[0m:\u001b[36m913\u001b[0m - \u001b[34m\u001b[1mMovement detected\u001b[0m\n",
      "\u001b[32m2024-07-23 20:34:10.548\u001b[0m | \u001b[34m\u001b[1mDEBUG   \u001b[0m | \u001b[36mnapari_spatialdata._scatterwidgets\u001b[0m:\u001b[36mmouseMoveEvent\u001b[0m:\u001b[36m913\u001b[0m - \u001b[34m\u001b[1mMovement detected\u001b[0m\n",
      "\u001b[32m2024-07-23 20:34:10.563\u001b[0m | \u001b[34m\u001b[1mDEBUG   \u001b[0m | \u001b[36mnapari_spatialdata._scatterwidgets\u001b[0m:\u001b[36mmouseMoveEvent\u001b[0m:\u001b[36m913\u001b[0m - \u001b[34m\u001b[1mMovement detected\u001b[0m\n",
      "\u001b[32m2024-07-23 20:34:10.564\u001b[0m | \u001b[34m\u001b[1mDEBUG   \u001b[0m | \u001b[36mnapari_spatialdata._scatterwidgets\u001b[0m:\u001b[36mmouseMoveEvent\u001b[0m:\u001b[36m913\u001b[0m - \u001b[34m\u001b[1mMovement detected\u001b[0m\n",
      "\u001b[32m2024-07-23 20:34:10.566\u001b[0m | \u001b[34m\u001b[1mDEBUG   \u001b[0m | \u001b[36mnapari_spatialdata._scatterwidgets\u001b[0m:\u001b[36mmouseMoveEvent\u001b[0m:\u001b[36m913\u001b[0m - \u001b[34m\u001b[1mMovement detected\u001b[0m\n",
      "\u001b[32m2024-07-23 20:34:10.569\u001b[0m | \u001b[34m\u001b[1mDEBUG   \u001b[0m | \u001b[36mnapari_spatialdata._scatterwidgets\u001b[0m:\u001b[36mmouseMoveEvent\u001b[0m:\u001b[36m913\u001b[0m - \u001b[34m\u001b[1mMovement detected\u001b[0m\n",
      "\u001b[32m2024-07-23 20:34:10.577\u001b[0m | \u001b[34m\u001b[1mDEBUG   \u001b[0m | \u001b[36mnapari_spatialdata._scatterwidgets\u001b[0m:\u001b[36mmouseMoveEvent\u001b[0m:\u001b[36m913\u001b[0m - \u001b[34m\u001b[1mMovement detected\u001b[0m\n",
      "\u001b[32m2024-07-23 20:34:10.577\u001b[0m | \u001b[34m\u001b[1mDEBUG   \u001b[0m | \u001b[36mnapari_spatialdata._scatterwidgets\u001b[0m:\u001b[36mmouseMoveEvent\u001b[0m:\u001b[36m913\u001b[0m - \u001b[34m\u001b[1mMovement detected\u001b[0m\n",
      "\u001b[32m2024-07-23 20:34:10.579\u001b[0m | \u001b[34m\u001b[1mDEBUG   \u001b[0m | \u001b[36mnapari_spatialdata._scatterwidgets\u001b[0m:\u001b[36mmouseMoveEvent\u001b[0m:\u001b[36m913\u001b[0m - \u001b[34m\u001b[1mMovement detected\u001b[0m\n",
      "\u001b[32m2024-07-23 20:34:10.591\u001b[0m | \u001b[34m\u001b[1mDEBUG   \u001b[0m | \u001b[36mnapari_spatialdata._scatterwidgets\u001b[0m:\u001b[36mmouseMoveEvent\u001b[0m:\u001b[36m913\u001b[0m - \u001b[34m\u001b[1mMovement detected\u001b[0m\n",
      "\u001b[32m2024-07-23 20:34:10.592\u001b[0m | \u001b[34m\u001b[1mDEBUG   \u001b[0m | \u001b[36mnapari_spatialdata._scatterwidgets\u001b[0m:\u001b[36mmouseMoveEvent\u001b[0m:\u001b[36m913\u001b[0m - \u001b[34m\u001b[1mMovement detected\u001b[0m\n",
      "\u001b[32m2024-07-23 20:34:10.594\u001b[0m | \u001b[34m\u001b[1mDEBUG   \u001b[0m | \u001b[36mnapari_spatialdata._scatterwidgets\u001b[0m:\u001b[36mmouseMoveEvent\u001b[0m:\u001b[36m913\u001b[0m - \u001b[34m\u001b[1mMovement detected\u001b[0m\n",
      "\u001b[32m2024-07-23 20:34:10.616\u001b[0m | \u001b[34m\u001b[1mDEBUG   \u001b[0m | \u001b[36mnapari_spatialdata._scatterwidgets\u001b[0m:\u001b[36mmouseMoveEvent\u001b[0m:\u001b[36m913\u001b[0m - \u001b[34m\u001b[1mMovement detected\u001b[0m\n",
      "\u001b[32m2024-07-23 20:34:10.617\u001b[0m | \u001b[34m\u001b[1mDEBUG   \u001b[0m | \u001b[36mnapari_spatialdata._scatterwidgets\u001b[0m:\u001b[36mmouseMoveEvent\u001b[0m:\u001b[36m913\u001b[0m - \u001b[34m\u001b[1mMovement detected\u001b[0m\n",
      "\u001b[32m2024-07-23 20:34:10.619\u001b[0m | \u001b[34m\u001b[1mDEBUG   \u001b[0m | \u001b[36mnapari_spatialdata._scatterwidgets\u001b[0m:\u001b[36mmouseMoveEvent\u001b[0m:\u001b[36m913\u001b[0m - \u001b[34m\u001b[1mMovement detected\u001b[0m\n",
      "\u001b[32m2024-07-23 20:34:10.623\u001b[0m | \u001b[34m\u001b[1mDEBUG   \u001b[0m | \u001b[36mnapari_spatialdata._scatterwidgets\u001b[0m:\u001b[36mmouseMoveEvent\u001b[0m:\u001b[36m913\u001b[0m - \u001b[34m\u001b[1mMovement detected\u001b[0m\n",
      "\u001b[32m2024-07-23 20:34:10.643\u001b[0m | \u001b[34m\u001b[1mDEBUG   \u001b[0m | \u001b[36mnapari_spatialdata._scatterwidgets\u001b[0m:\u001b[36mmouseMoveEvent\u001b[0m:\u001b[36m913\u001b[0m - \u001b[34m\u001b[1mMovement detected\u001b[0m\n",
      "\u001b[32m2024-07-23 20:34:10.644\u001b[0m | \u001b[34m\u001b[1mDEBUG   \u001b[0m | \u001b[36mnapari_spatialdata._scatterwidgets\u001b[0m:\u001b[36mmouseMoveEvent\u001b[0m:\u001b[36m913\u001b[0m - \u001b[34m\u001b[1mMovement detected\u001b[0m\n",
      "\u001b[32m2024-07-23 20:34:10.645\u001b[0m | \u001b[34m\u001b[1mDEBUG   \u001b[0m | \u001b[36mnapari_spatialdata._scatterwidgets\u001b[0m:\u001b[36mmouseMoveEvent\u001b[0m:\u001b[36m913\u001b[0m - \u001b[34m\u001b[1mMovement detected\u001b[0m\n",
      "\u001b[32m2024-07-23 20:34:10.924\u001b[0m | \u001b[34m\u001b[1mDEBUG   \u001b[0m | \u001b[36mnapari_spatialdata._scatterwidgets\u001b[0m:\u001b[36mmouseMoveEvent\u001b[0m:\u001b[36m913\u001b[0m - \u001b[34m\u001b[1mMovement detected\u001b[0m\n",
      "\u001b[32m2024-07-23 20:34:10.925\u001b[0m | \u001b[34m\u001b[1mDEBUG   \u001b[0m | \u001b[36mnapari_spatialdata._scatterwidgets\u001b[0m:\u001b[36mmouseMoveEvent\u001b[0m:\u001b[36m913\u001b[0m - \u001b[34m\u001b[1mMovement detected\u001b[0m\n",
      "\u001b[32m2024-07-23 20:34:10.926\u001b[0m | \u001b[34m\u001b[1mDEBUG   \u001b[0m | \u001b[36mnapari_spatialdata._scatterwidgets\u001b[0m:\u001b[36mmouseMoveEvent\u001b[0m:\u001b[36m913\u001b[0m - \u001b[34m\u001b[1mMovement detected\u001b[0m\n",
      "\u001b[32m2024-07-23 20:34:10.931\u001b[0m | \u001b[34m\u001b[1mDEBUG   \u001b[0m | \u001b[36mnapari_spatialdata._scatterwidgets\u001b[0m:\u001b[36mmouseMoveEvent\u001b[0m:\u001b[36m913\u001b[0m - \u001b[34m\u001b[1mMovement detected\u001b[0m\n",
      "\u001b[32m2024-07-23 20:34:10.941\u001b[0m | \u001b[34m\u001b[1mDEBUG   \u001b[0m | \u001b[36mnapari_spatialdata._scatterwidgets\u001b[0m:\u001b[36mmouseMoveEvent\u001b[0m:\u001b[36m913\u001b[0m - \u001b[34m\u001b[1mMovement detected\u001b[0m\n",
      "\u001b[32m2024-07-23 20:34:10.941\u001b[0m | \u001b[34m\u001b[1mDEBUG   \u001b[0m | \u001b[36mnapari_spatialdata._scatterwidgets\u001b[0m:\u001b[36mmouseMoveEvent\u001b[0m:\u001b[36m913\u001b[0m - \u001b[34m\u001b[1mMovement detected\u001b[0m\n",
      "\u001b[32m2024-07-23 20:34:10.943\u001b[0m | \u001b[34m\u001b[1mDEBUG   \u001b[0m | \u001b[36mnapari_spatialdata._scatterwidgets\u001b[0m:\u001b[36mmouseMoveEvent\u001b[0m:\u001b[36m913\u001b[0m - \u001b[34m\u001b[1mMovement detected\u001b[0m\n",
      "\u001b[32m2024-07-23 20:34:10.965\u001b[0m | \u001b[34m\u001b[1mDEBUG   \u001b[0m | \u001b[36mnapari_spatialdata._scatterwidgets\u001b[0m:\u001b[36mmouseMoveEvent\u001b[0m:\u001b[36m913\u001b[0m - \u001b[34m\u001b[1mMovement detected\u001b[0m\n",
      "\u001b[32m2024-07-23 20:34:10.966\u001b[0m | \u001b[34m\u001b[1mDEBUG   \u001b[0m | \u001b[36mnapari_spatialdata._scatterwidgets\u001b[0m:\u001b[36mmouseMoveEvent\u001b[0m:\u001b[36m913\u001b[0m - \u001b[34m\u001b[1mMovement detected\u001b[0m\n",
      "\u001b[32m2024-07-23 20:34:10.967\u001b[0m | \u001b[34m\u001b[1mDEBUG   \u001b[0m | \u001b[36mnapari_spatialdata._scatterwidgets\u001b[0m:\u001b[36mmouseMoveEvent\u001b[0m:\u001b[36m913\u001b[0m - \u001b[34m\u001b[1mMovement detected\u001b[0m\n",
      "\u001b[32m2024-07-23 20:34:10.970\u001b[0m | \u001b[34m\u001b[1mDEBUG   \u001b[0m | \u001b[36mnapari_spatialdata._scatterwidgets\u001b[0m:\u001b[36mmouseMoveEvent\u001b[0m:\u001b[36m913\u001b[0m - \u001b[34m\u001b[1mMovement detected\u001b[0m\n",
      "\u001b[32m2024-07-23 20:34:11.006\u001b[0m | \u001b[34m\u001b[1mDEBUG   \u001b[0m | \u001b[36mnapari_spatialdata._scatterwidgets\u001b[0m:\u001b[36mmouseMoveEvent\u001b[0m:\u001b[36m913\u001b[0m - \u001b[34m\u001b[1mMovement detected\u001b[0m\n",
      "\u001b[32m2024-07-23 20:34:11.007\u001b[0m | \u001b[34m\u001b[1mDEBUG   \u001b[0m | \u001b[36mnapari_spatialdata._scatterwidgets\u001b[0m:\u001b[36mmouseMoveEvent\u001b[0m:\u001b[36m913\u001b[0m - \u001b[34m\u001b[1mMovement detected\u001b[0m\n",
      "\u001b[32m2024-07-23 20:34:11.009\u001b[0m | \u001b[34m\u001b[1mDEBUG   \u001b[0m | \u001b[36mnapari_spatialdata._scatterwidgets\u001b[0m:\u001b[36mmouseMoveEvent\u001b[0m:\u001b[36m913\u001b[0m - \u001b[34m\u001b[1mMovement detected\u001b[0m\n",
      "\u001b[32m2024-07-23 20:34:11.013\u001b[0m | \u001b[34m\u001b[1mDEBUG   \u001b[0m | \u001b[36mnapari_spatialdata._scatterwidgets\u001b[0m:\u001b[36mmouseMoveEvent\u001b[0m:\u001b[36m913\u001b[0m - \u001b[34m\u001b[1mMovement detected\u001b[0m\n",
      "\u001b[32m2024-07-23 20:34:11.026\u001b[0m | \u001b[34m\u001b[1mDEBUG   \u001b[0m | \u001b[36mnapari_spatialdata._scatterwidgets\u001b[0m:\u001b[36mmouseMoveEvent\u001b[0m:\u001b[36m913\u001b[0m - \u001b[34m\u001b[1mMovement detected\u001b[0m\n",
      "\u001b[32m2024-07-23 20:34:11.027\u001b[0m | \u001b[34m\u001b[1mDEBUG   \u001b[0m | \u001b[36mnapari_spatialdata._scatterwidgets\u001b[0m:\u001b[36mmouseMoveEvent\u001b[0m:\u001b[36m913\u001b[0m - \u001b[34m\u001b[1mMovement detected\u001b[0m\n",
      "\u001b[32m2024-07-23 20:34:11.028\u001b[0m | \u001b[34m\u001b[1mDEBUG   \u001b[0m | \u001b[36mnapari_spatialdata._scatterwidgets\u001b[0m:\u001b[36mmouseMoveEvent\u001b[0m:\u001b[36m913\u001b[0m - \u001b[34m\u001b[1mMovement detected\u001b[0m\n",
      "\u001b[32m2024-07-23 20:34:11.046\u001b[0m | \u001b[34m\u001b[1mDEBUG   \u001b[0m | \u001b[36mnapari_spatialdata._scatterwidgets\u001b[0m:\u001b[36mmouseMoveEvent\u001b[0m:\u001b[36m913\u001b[0m - \u001b[34m\u001b[1mMovement detected\u001b[0m\n",
      "\u001b[32m2024-07-23 20:34:11.047\u001b[0m | \u001b[34m\u001b[1mDEBUG   \u001b[0m | \u001b[36mnapari_spatialdata._scatterwidgets\u001b[0m:\u001b[36mmouseMoveEvent\u001b[0m:\u001b[36m913\u001b[0m - \u001b[34m\u001b[1mMovement detected\u001b[0m\n",
      "\u001b[32m2024-07-23 20:34:11.049\u001b[0m | \u001b[34m\u001b[1mDEBUG   \u001b[0m | \u001b[36mnapari_spatialdata._scatterwidgets\u001b[0m:\u001b[36mmouseMoveEvent\u001b[0m:\u001b[36m913\u001b[0m - \u001b[34m\u001b[1mMovement detected\u001b[0m\n",
      "\u001b[32m2024-07-23 20:34:11.073\u001b[0m | \u001b[34m\u001b[1mDEBUG   \u001b[0m | \u001b[36mnapari_spatialdata._scatterwidgets\u001b[0m:\u001b[36mmouseMoveEvent\u001b[0m:\u001b[36m913\u001b[0m - \u001b[34m\u001b[1mMovement detected\u001b[0m\n",
      "\u001b[32m2024-07-23 20:34:11.074\u001b[0m | \u001b[34m\u001b[1mDEBUG   \u001b[0m | \u001b[36mnapari_spatialdata._scatterwidgets\u001b[0m:\u001b[36mmouseMoveEvent\u001b[0m:\u001b[36m913\u001b[0m - \u001b[34m\u001b[1mMovement detected\u001b[0m\n",
      "\u001b[32m2024-07-23 20:34:11.076\u001b[0m | \u001b[34m\u001b[1mDEBUG   \u001b[0m | \u001b[36mnapari_spatialdata._scatterwidgets\u001b[0m:\u001b[36mmouseMoveEvent\u001b[0m:\u001b[36m913\u001b[0m - \u001b[34m\u001b[1mMovement detected\u001b[0m\n",
      "\u001b[32m2024-07-23 20:34:11.806\u001b[0m | \u001b[34m\u001b[1mDEBUG   \u001b[0m | \u001b[36mnapari_spatialdata._scatterwidgets\u001b[0m:\u001b[36mmouseMoveEvent\u001b[0m:\u001b[36m913\u001b[0m - \u001b[34m\u001b[1mMovement detected\u001b[0m\n",
      "\u001b[32m2024-07-23 20:34:11.806\u001b[0m | \u001b[34m\u001b[1mDEBUG   \u001b[0m | \u001b[36mnapari_spatialdata._scatterwidgets\u001b[0m:\u001b[36mmouseMoveEvent\u001b[0m:\u001b[36m913\u001b[0m - \u001b[34m\u001b[1mMovement detected\u001b[0m\n",
      "\u001b[32m2024-07-23 20:34:11.808\u001b[0m | \u001b[34m\u001b[1mDEBUG   \u001b[0m | \u001b[36mnapari_spatialdata._scatterwidgets\u001b[0m:\u001b[36mmouseMoveEvent\u001b[0m:\u001b[36m913\u001b[0m - \u001b[34m\u001b[1mMovement detected\u001b[0m\n",
      "\u001b[32m2024-07-23 20:34:11.815\u001b[0m | \u001b[34m\u001b[1mDEBUG   \u001b[0m | \u001b[36mnapari_spatialdata._scatterwidgets\u001b[0m:\u001b[36mmouseMoveEvent\u001b[0m:\u001b[36m913\u001b[0m - \u001b[34m\u001b[1mMovement detected\u001b[0m\n",
      "\u001b[32m2024-07-23 20:34:11.820\u001b[0m | \u001b[34m\u001b[1mDEBUG   \u001b[0m | \u001b[36mnapari_spatialdata._scatterwidgets\u001b[0m:\u001b[36mmouseMoveEvent\u001b[0m:\u001b[36m913\u001b[0m - \u001b[34m\u001b[1mMovement detected\u001b[0m\n",
      "\u001b[32m2024-07-23 20:34:11.821\u001b[0m | \u001b[34m\u001b[1mDEBUG   \u001b[0m | \u001b[36mnapari_spatialdata._scatterwidgets\u001b[0m:\u001b[36mmouseMoveEvent\u001b[0m:\u001b[36m913\u001b[0m - \u001b[34m\u001b[1mMovement detected\u001b[0m\n",
      "\u001b[32m2024-07-23 20:34:11.823\u001b[0m | \u001b[34m\u001b[1mDEBUG   \u001b[0m | \u001b[36mnapari_spatialdata._scatterwidgets\u001b[0m:\u001b[36mmouseMoveEvent\u001b[0m:\u001b[36m913\u001b[0m - \u001b[34m\u001b[1mMovement detected\u001b[0m\n",
      "\u001b[32m2024-07-23 20:34:11.833\u001b[0m | \u001b[34m\u001b[1mDEBUG   \u001b[0m | \u001b[36mnapari_spatialdata._scatterwidgets\u001b[0m:\u001b[36mmouseMoveEvent\u001b[0m:\u001b[36m913\u001b[0m - \u001b[34m\u001b[1mMovement detected\u001b[0m\n",
      "\u001b[32m2024-07-23 20:34:11.834\u001b[0m | \u001b[34m\u001b[1mDEBUG   \u001b[0m | \u001b[36mnapari_spatialdata._scatterwidgets\u001b[0m:\u001b[36mmouseMoveEvent\u001b[0m:\u001b[36m913\u001b[0m - \u001b[34m\u001b[1mMovement detected\u001b[0m\n",
      "\u001b[32m2024-07-23 20:34:11.836\u001b[0m | \u001b[34m\u001b[1mDEBUG   \u001b[0m | \u001b[36mnapari_spatialdata._scatterwidgets\u001b[0m:\u001b[36mmouseMoveEvent\u001b[0m:\u001b[36m913\u001b[0m - \u001b[34m\u001b[1mMovement detected\u001b[0m\n",
      "\u001b[32m2024-07-23 20:34:11.839\u001b[0m | \u001b[34m\u001b[1mDEBUG   \u001b[0m | \u001b[36mnapari_spatialdata._scatterwidgets\u001b[0m:\u001b[36mmouseMoveEvent\u001b[0m:\u001b[36m913\u001b[0m - \u001b[34m\u001b[1mMovement detected\u001b[0m\n",
      "\u001b[32m2024-07-23 20:34:11.843\u001b[0m | \u001b[34m\u001b[1mDEBUG   \u001b[0m | \u001b[36mnapari_spatialdata._scatterwidgets\u001b[0m:\u001b[36mmouseMoveEvent\u001b[0m:\u001b[36m913\u001b[0m - \u001b[34m\u001b[1mMovement detected\u001b[0m\n",
      "\u001b[32m2024-07-23 20:34:11.844\u001b[0m | \u001b[34m\u001b[1mDEBUG   \u001b[0m | \u001b[36mnapari_spatialdata._scatterwidgets\u001b[0m:\u001b[36mmouseMoveEvent\u001b[0m:\u001b[36m913\u001b[0m - \u001b[34m\u001b[1mMovement detected\u001b[0m\n",
      "\u001b[32m2024-07-23 20:34:11.846\u001b[0m | \u001b[34m\u001b[1mDEBUG   \u001b[0m | \u001b[36mnapari_spatialdata._scatterwidgets\u001b[0m:\u001b[36mmouseMoveEvent\u001b[0m:\u001b[36m913\u001b[0m - \u001b[34m\u001b[1mMovement detected\u001b[0m\n",
      "\u001b[32m2024-07-23 20:34:11.861\u001b[0m | \u001b[34m\u001b[1mDEBUG   \u001b[0m | \u001b[36mnapari_spatialdata._scatterwidgets\u001b[0m:\u001b[36mmouseMoveEvent\u001b[0m:\u001b[36m913\u001b[0m - \u001b[34m\u001b[1mMovement detected\u001b[0m\n",
      "\u001b[32m2024-07-23 20:34:11.862\u001b[0m | \u001b[34m\u001b[1mDEBUG   \u001b[0m | \u001b[36mnapari_spatialdata._scatterwidgets\u001b[0m:\u001b[36mmouseMoveEvent\u001b[0m:\u001b[36m913\u001b[0m - \u001b[34m\u001b[1mMovement detected\u001b[0m\n",
      "\u001b[32m2024-07-23 20:34:11.864\u001b[0m | \u001b[34m\u001b[1mDEBUG   \u001b[0m | \u001b[36mnapari_spatialdata._scatterwidgets\u001b[0m:\u001b[36mmouseMoveEvent\u001b[0m:\u001b[36m913\u001b[0m - \u001b[34m\u001b[1mMovement detected\u001b[0m\n",
      "\u001b[32m2024-07-23 20:34:11.869\u001b[0m | \u001b[34m\u001b[1mDEBUG   \u001b[0m | \u001b[36mnapari_spatialdata._scatterwidgets\u001b[0m:\u001b[36mmouseMoveEvent\u001b[0m:\u001b[36m913\u001b[0m - \u001b[34m\u001b[1mMovement detected\u001b[0m\n",
      "\u001b[32m2024-07-23 20:34:11.872\u001b[0m | \u001b[34m\u001b[1mDEBUG   \u001b[0m | \u001b[36mnapari_spatialdata._scatterwidgets\u001b[0m:\u001b[36mmouseMoveEvent\u001b[0m:\u001b[36m913\u001b[0m - \u001b[34m\u001b[1mMovement detected\u001b[0m\n",
      "\u001b[32m2024-07-23 20:34:11.872\u001b[0m | \u001b[34m\u001b[1mDEBUG   \u001b[0m | \u001b[36mnapari_spatialdata._scatterwidgets\u001b[0m:\u001b[36mmouseMoveEvent\u001b[0m:\u001b[36m913\u001b[0m - \u001b[34m\u001b[1mMovement detected\u001b[0m\n",
      "\u001b[32m2024-07-23 20:34:11.874\u001b[0m | \u001b[34m\u001b[1mDEBUG   \u001b[0m | \u001b[36mnapari_spatialdata._scatterwidgets\u001b[0m:\u001b[36mmouseMoveEvent\u001b[0m:\u001b[36m913\u001b[0m - \u001b[34m\u001b[1mMovement detected\u001b[0m\n",
      "\u001b[32m2024-07-23 20:34:12.927\u001b[0m | \u001b[34m\u001b[1mDEBUG   \u001b[0m | \u001b[36mnapari_spatialdata._scatterwidgets\u001b[0m:\u001b[36mmouseMoveEvent\u001b[0m:\u001b[36m913\u001b[0m - \u001b[34m\u001b[1mMovement detected\u001b[0m\n",
      "\u001b[32m2024-07-23 20:34:12.927\u001b[0m | \u001b[34m\u001b[1mDEBUG   \u001b[0m | \u001b[36mnapari_spatialdata._scatterwidgets\u001b[0m:\u001b[36mmouseMoveEvent\u001b[0m:\u001b[36m913\u001b[0m - \u001b[34m\u001b[1mMovement detected\u001b[0m\n",
      "\u001b[32m2024-07-23 20:34:12.929\u001b[0m | \u001b[34m\u001b[1mDEBUG   \u001b[0m | \u001b[36mnapari_spatialdata._scatterwidgets\u001b[0m:\u001b[36mmouseMoveEvent\u001b[0m:\u001b[36m913\u001b[0m - \u001b[34m\u001b[1mMovement detected\u001b[0m\n",
      "\u001b[32m2024-07-23 20:34:12.932\u001b[0m | \u001b[34m\u001b[1mDEBUG   \u001b[0m | \u001b[36mnapari_spatialdata._scatterwidgets\u001b[0m:\u001b[36mmouseMoveEvent\u001b[0m:\u001b[36m913\u001b[0m - \u001b[34m\u001b[1mMovement detected\u001b[0m\n",
      "\u001b[32m2024-07-23 20:34:12.939\u001b[0m | \u001b[34m\u001b[1mDEBUG   \u001b[0m | \u001b[36mnapari_spatialdata._scatterwidgets\u001b[0m:\u001b[36mmouseMoveEvent\u001b[0m:\u001b[36m913\u001b[0m - \u001b[34m\u001b[1mMovement detected\u001b[0m\n",
      "\u001b[32m2024-07-23 20:34:12.939\u001b[0m | \u001b[34m\u001b[1mDEBUG   \u001b[0m | \u001b[36mnapari_spatialdata._scatterwidgets\u001b[0m:\u001b[36mmouseMoveEvent\u001b[0m:\u001b[36m913\u001b[0m - \u001b[34m\u001b[1mMovement detected\u001b[0m\n",
      "\u001b[32m2024-07-23 20:34:12.941\u001b[0m | \u001b[34m\u001b[1mDEBUG   \u001b[0m | \u001b[36mnapari_spatialdata._scatterwidgets\u001b[0m:\u001b[36mmouseMoveEvent\u001b[0m:\u001b[36m913\u001b[0m - \u001b[34m\u001b[1mMovement detected\u001b[0m\n",
      "\u001b[32m2024-07-23 20:34:12.946\u001b[0m | \u001b[34m\u001b[1mDEBUG   \u001b[0m | \u001b[36mnapari_spatialdata._scatterwidgets\u001b[0m:\u001b[36mmouseMoveEvent\u001b[0m:\u001b[36m913\u001b[0m - \u001b[34m\u001b[1mMovement detected\u001b[0m\n",
      "\u001b[32m2024-07-23 20:34:12.952\u001b[0m | \u001b[34m\u001b[1mDEBUG   \u001b[0m | \u001b[36mnapari_spatialdata._scatterwidgets\u001b[0m:\u001b[36mmouseMoveEvent\u001b[0m:\u001b[36m913\u001b[0m - \u001b[34m\u001b[1mMovement detected\u001b[0m\n",
      "\u001b[32m2024-07-23 20:34:12.953\u001b[0m | \u001b[34m\u001b[1mDEBUG   \u001b[0m | \u001b[36mnapari_spatialdata._scatterwidgets\u001b[0m:\u001b[36mmouseMoveEvent\u001b[0m:\u001b[36m913\u001b[0m - \u001b[34m\u001b[1mMovement detected\u001b[0m\n",
      "\u001b[32m2024-07-23 20:34:12.955\u001b[0m | \u001b[34m\u001b[1mDEBUG   \u001b[0m | \u001b[36mnapari_spatialdata._scatterwidgets\u001b[0m:\u001b[36mmouseMoveEvent\u001b[0m:\u001b[36m913\u001b[0m - \u001b[34m\u001b[1mMovement detected\u001b[0m\n",
      "\u001b[32m2024-07-23 20:34:12.959\u001b[0m | \u001b[34m\u001b[1mDEBUG   \u001b[0m | \u001b[36mnapari_spatialdata._scatterwidgets\u001b[0m:\u001b[36mmouseMoveEvent\u001b[0m:\u001b[36m913\u001b[0m - \u001b[34m\u001b[1mMovement detected\u001b[0m\n",
      "\u001b[32m2024-07-23 20:34:12.968\u001b[0m | \u001b[34m\u001b[1mDEBUG   \u001b[0m | \u001b[36mnapari_spatialdata._scatterwidgets\u001b[0m:\u001b[36mmouseMoveEvent\u001b[0m:\u001b[36m913\u001b[0m - \u001b[34m\u001b[1mMovement detected\u001b[0m\n",
      "\u001b[32m2024-07-23 20:34:12.968\u001b[0m | \u001b[34m\u001b[1mDEBUG   \u001b[0m | \u001b[36mnapari_spatialdata._scatterwidgets\u001b[0m:\u001b[36mmouseMoveEvent\u001b[0m:\u001b[36m913\u001b[0m - \u001b[34m\u001b[1mMovement detected\u001b[0m\n",
      "\u001b[32m2024-07-23 20:34:12.970\u001b[0m | \u001b[34m\u001b[1mDEBUG   \u001b[0m | \u001b[36mnapari_spatialdata._scatterwidgets\u001b[0m:\u001b[36mmouseMoveEvent\u001b[0m:\u001b[36m913\u001b[0m - \u001b[34m\u001b[1mMovement detected\u001b[0m\n"
     ]
    }
   ],
   "source": [
    "widget = QtAdataScatterWidget(adata)\n",
    "widget.show()"
   ]
  },
  {
   "cell_type": "code",
   "execution_count": 12,
   "metadata": {},
   "outputs": [],
   "source": [
    "plt.imshow(widget.screenshot())\n",
    "plt.axis('off')"
   ]
  },
  {
   "cell_type": "code",
   "execution_count": 40,
   "metadata": {},
   "outputs": [],
   "source": [
    "plt.imshow(widget.screenshot())\n",
    "plt.axis('off')"
   ]
  },
  {
   "cell_type": "code",
   "execution_count": null,
   "metadata": {},
   "outputs": [],
   "source": [
    "plt.imshow(widget.screenshot())\n",
    "plt.axis('off')"
   ]
  },
  {
   "attachments": {},
   "cell_type": "markdown",
   "metadata": {},
   "source": [
    "Some examples of scatterplots:"
   ]
  },
  {
   "cell_type": "code",
   "execution_count": null,
   "metadata": {},
   "outputs": [],
   "source": [
    "plt.imshow(widget.screenshot())\n",
    "plt.axis('off')"
   ]
  },
  {
   "cell_type": "code",
   "execution_count": null,
   "metadata": {},
   "outputs": [],
   "source": [
    "plt.imshow(widget.screenshot())\n",
    "plt.axis('off')"
   ]
  }
 ],
 "metadata": {
  "kernelspec": {
   "display_name": "napari",
   "language": "python",
   "name": "python3"
  },
  "language_info": {
   "codemirror_mode": {
    "name": "ipython",
    "version": 3
   },
   "file_extension": ".py",
   "mimetype": "text/x-python",
   "name": "python",
   "nbconvert_exporter": "python",
   "pygments_lexer": "ipython3",
   "version": "3.10.14"
  },
  "orig_nbformat": 4
 },
 "nbformat": 4,
 "nbformat_minor": 2
}
