{
 "cells": [
  {
   "attachments": {},
   "cell_type": "markdown",
   "metadata": {},
   "source": [
    "# Use the Scatterwidget with AnnData from Notebook"
   ]
  },
  {
   "attachments": {},
   "cell_type": "markdown",
   "metadata": {},
   "source": [
    "This tutorial is an example of how to use the Napari-Spatialdata ScatterWidget from a notebook."
   ]
  },
  {
   "cell_type": "markdown",
   "metadata": {},
   "source": [
    "## Import packages and data"
   ]
  },
  {
   "attachments": {},
   "cell_type": "markdown",
   "metadata": {},
   "source": [
    "There are two options to install napari-spatialdata:\n",
    "\n",
    "(1) Run `pip install napari-spatialdata`\n",
    "\n",
    "or, \n",
    "\n",
    "(2) Clone this [repo](https://github.com/scverse/napari-spatialdata) and run `pip install -e .`"
   ]
  },
  {
   "cell_type": "code",
   "execution_count": 1,
   "metadata": {},
   "outputs": [],
   "source": [
    "%load_ext autoreload\n",
    "%autoreload 2\n",
    "\n",
    "from napari_spatialdata import QtAdataScatterWidget\n",
    "import squidpy as sq\n",
    "import matplotlib.pyplot as plt"
   ]
  },
  {
   "attachments": {},
   "cell_type": "markdown",
   "metadata": {},
   "source": [
    "Load in the AnnData:"
   ]
  },
  {
   "cell_type": "code",
   "execution_count": 2,
   "metadata": {},
   "outputs": [],
   "source": [
    "adata = sq.datasets.visium_hne_adata()"
   ]
  },
  {
   "attachments": {},
   "cell_type": "markdown",
   "metadata": {},
   "source": [
    "The following line is needed to initialize a widget without a QApplication:"
   ]
  },
  {
   "cell_type": "code",
   "execution_count": 3,
   "metadata": {},
   "outputs": [],
   "source": [
    "%gui qt5"
   ]
  },
  {
   "attachments": {},
   "cell_type": "markdown",
   "metadata": {},
   "source": [
    "Open the ScatterWidget:"
   ]
  },
  {
   "cell_type": "code",
   "execution_count": null,
   "metadata": {},
   "outputs": [
    {
     "name": "stderr",
     "output_type": "stream",
     "text": [
      "\u001b[32m2024-06-27 15:02:28.398\u001b[0m | \u001b[1mINFO    \u001b[0m | \u001b[36mnapari_spatialdata._scatterwidgets\u001b[0m:\u001b[36m_onClick\u001b[0m:\u001b[36m733\u001b[0m - \u001b[1mA change in x or y data has been detected.\u001b[0m\n",
      "\u001b[32m2024-06-27 15:02:28.398\u001b[0m | \u001b[1mINFO    \u001b[0m | \u001b[36mnapari_spatialdata._scatterwidgets\u001b[0m:\u001b[36mplot\u001b[0m:\u001b[36m765\u001b[0m - \u001b[1mGenerating scatter plot...\u001b[0m\n",
      "\u001b[32m2024-06-27 15:02:30.236\u001b[0m | \u001b[34m\u001b[1mDEBUG   \u001b[0m | \u001b[36mnapari_spatialdata._scatterwidgets\u001b[0m:\u001b[36mmousePressEvent\u001b[0m:\u001b[36m453\u001b[0m - \u001b[34m\u001b[1mLeft press detected\u001b[0m\n",
      "\u001b[32m2024-06-27 15:02:32.100\u001b[0m | \u001b[34m\u001b[1mDEBUG   \u001b[0m | \u001b[36mnapari_spatialdata._scatterwidgets\u001b[0m:\u001b[36mmousePressEvent\u001b[0m:\u001b[36m453\u001b[0m - \u001b[34m\u001b[1mLeft press detected\u001b[0m\n",
      "\u001b[32m2024-06-27 15:02:34.046\u001b[0m | \u001b[34m\u001b[1mDEBUG   \u001b[0m | \u001b[36mnapari_spatialdata._scatterwidgets\u001b[0m:\u001b[36mmousePressEvent\u001b[0m:\u001b[36m453\u001b[0m - \u001b[34m\u001b[1mLeft press detected\u001b[0m\n",
      "\u001b[32m2024-06-27 15:02:36.104\u001b[0m | \u001b[1mINFO    \u001b[0m | \u001b[36mnapari_spatialdata._scatterwidgets\u001b[0m:\u001b[36mremove_roi\u001b[0m:\u001b[36m886\u001b[0m - \u001b[1mRemove <pyqtgraph.graphicsItems.ROI.PolyLineROI object at 0x000002461C545990> ROI.\u001b[0m\n",
      "\u001b[32m2024-06-27 15:02:37.876\u001b[0m | \u001b[1mINFO    \u001b[0m | \u001b[36mnapari_spatialdata._scatterwidgets\u001b[0m:\u001b[36mremove_roi\u001b[0m:\u001b[36m886\u001b[0m - \u001b[1mRemove <pyqtgraph.graphicsItems.ROI.PolyLineROI object at 0x000002461C544550> ROI.\u001b[0m\n",
      "\u001b[32m2024-06-27 15:02:41.358\u001b[0m | \u001b[34m\u001b[1mDEBUG   \u001b[0m | \u001b[36mnapari_spatialdata._scatterwidgets\u001b[0m:\u001b[36mmousePressEvent\u001b[0m:\u001b[36m453\u001b[0m - \u001b[34m\u001b[1mLeft press detected\u001b[0m\n",
      "\u001b[32m2024-06-27 15:02:42.919\u001b[0m | \u001b[34m\u001b[1mDEBUG   \u001b[0m | \u001b[36mnapari_spatialdata._scatterwidgets\u001b[0m:\u001b[36mmousePressEvent\u001b[0m:\u001b[36m453\u001b[0m - \u001b[34m\u001b[1mLeft press detected\u001b[0m\n",
      "\u001b[32m2024-06-27 15:02:47.590\u001b[0m | \u001b[1mINFO    \u001b[0m | \u001b[36mnapari_spatialdata._scatterwidgets\u001b[0m:\u001b[36mremove_roi\u001b[0m:\u001b[36m886\u001b[0m - \u001b[1mRemove <pyqtgraph.graphicsItems.ROI.PolyLineROI object at 0x000002461BD59990> ROI.\u001b[0m\n",
      "\u001b[32m2024-06-27 15:02:49.565\u001b[0m | \u001b[1mINFO    \u001b[0m | \u001b[36mnapari_spatialdata._scatterwidgets\u001b[0m:\u001b[36mremove_all_rois\u001b[0m:\u001b[36m859\u001b[0m - \u001b[1mRemoving all ROIs.\u001b[0m\n",
      "\u001b[32m2024-06-27 15:02:49.566\u001b[0m | \u001b[1mINFO    \u001b[0m | \u001b[36mnapari_spatialdata._scatterwidgets\u001b[0m:\u001b[36mremove_roi\u001b[0m:\u001b[36m886\u001b[0m - \u001b[1mRemove <pyqtgraph.graphicsItems.ROI.PolyLineROI object at 0x000002461C54FEB0> ROI.\u001b[0m\n",
      "\u001b[32m2024-06-27 15:02:50.805\u001b[0m | \u001b[1mINFO    \u001b[0m | \u001b[36mnapari_spatialdata._scatterwidgets\u001b[0m:\u001b[36mremove_all_rois\u001b[0m:\u001b[36m859\u001b[0m - \u001b[1mRemoving all ROIs.\u001b[0m\n",
      "\u001b[32m2024-06-27 15:02:50.806\u001b[0m | \u001b[1mINFO    \u001b[0m | \u001b[36mnapari_spatialdata._scatterwidgets\u001b[0m:\u001b[36mremove_roi\u001b[0m:\u001b[36m886\u001b[0m - \u001b[1mRemove <pyqtgraph.graphicsItems.ROI.PolyLineROI object at 0x000002461C54D750> ROI.\u001b[0m\n",
      "\u001b[32m2024-06-27 15:02:53.375\u001b[0m | \u001b[34m\u001b[1mDEBUG   \u001b[0m | \u001b[36mnapari_spatialdata._scatterwidgets\u001b[0m:\u001b[36mmousePressEvent\u001b[0m:\u001b[36m453\u001b[0m - \u001b[34m\u001b[1mLeft press detected\u001b[0m\n",
      "\u001b[32m2024-06-27 15:02:56.427\u001b[0m | \u001b[34m\u001b[1mDEBUG   \u001b[0m | \u001b[36mnapari_spatialdata._scatterwidgets\u001b[0m:\u001b[36mmousePressEvent\u001b[0m:\u001b[36m453\u001b[0m - \u001b[34m\u001b[1mLeft press detected\u001b[0m\n",
      "\u001b[32m2024-06-27 15:02:58.058\u001b[0m | \u001b[34m\u001b[1mDEBUG   \u001b[0m | \u001b[36mnapari_spatialdata._scatterwidgets\u001b[0m:\u001b[36mmousePressEvent\u001b[0m:\u001b[36m453\u001b[0m - \u001b[34m\u001b[1mLeft press detected\u001b[0m\n",
      "\u001b[32m2024-06-27 15:03:00.069\u001b[0m | \u001b[1mINFO    \u001b[0m | \u001b[36mnapari_spatialdata._scatterwidgets\u001b[0m:\u001b[36mremove_all_rois\u001b[0m:\u001b[36m859\u001b[0m - \u001b[1mRemoving all ROIs.\u001b[0m\n",
      "\u001b[32m2024-06-27 15:03:00.070\u001b[0m | \u001b[1mINFO    \u001b[0m | \u001b[36mnapari_spatialdata._scatterwidgets\u001b[0m:\u001b[36mremove_roi\u001b[0m:\u001b[36m886\u001b[0m - \u001b[1mRemove <pyqtgraph.graphicsItems.ROI.PolyLineROI object at 0x0000024620CF45E0> ROI.\u001b[0m\n",
      "\u001b[32m2024-06-27 15:03:00.072\u001b[0m | \u001b[1mINFO    \u001b[0m | \u001b[36mnapari_spatialdata._scatterwidgets\u001b[0m:\u001b[36mremove_roi\u001b[0m:\u001b[36m886\u001b[0m - \u001b[1mRemove <pyqtgraph.graphicsItems.ROI.PolyLineROI object at 0x000002461C54EA70> ROI.\u001b[0m\n"
     ]
    }
   ],
   "source": [
    "widget = QtAdataScatterWidget(adata)\n",
    "widget.show()"
   ]
  },
  {
   "cell_type": "code",
   "execution_count": 13,
   "metadata": {},
   "outputs": [
    {
     "data": {
      "text/plain": [
       "[]"
      ]
     },
     "execution_count": 13,
     "metadata": {},
     "output_type": "execute_result"
    }
   ],
   "source": [
    "widget.plot_widget.roi_list"
   ]
  },
  {
   "cell_type": "code",
   "execution_count": 8,
   "metadata": {},
   "outputs": [
    {
     "ename": "AttributeError",
     "evalue": "'DiscreteColorWidget' object has no attribute 'setStyleSheet'",
     "output_type": "error",
     "traceback": [
      "\u001b[1;31m---------------------------------------------------------------------------\u001b[0m",
      "\u001b[1;31mAttributeError\u001b[0m                            Traceback (most recent call last)",
      "Cell \u001b[1;32mIn[8], line 2\u001b[0m\n\u001b[0;32m      1\u001b[0m \u001b[38;5;28;01mfrom\u001b[39;00m \u001b[38;5;21;01mnapari_spatialdata\u001b[39;00m\u001b[38;5;21;01m.\u001b[39;00m\u001b[38;5;21;01m_scatterwidgets\u001b[39;00m \u001b[38;5;28;01mimport\u001b[39;00m DiscreteColorWidget\n\u001b[1;32m----> 2\u001b[0m test \u001b[38;5;241m=\u001b[39m \u001b[43mDiscreteColorWidget\u001b[49m\u001b[43m(\u001b[49m\u001b[43madata\u001b[49m\u001b[43m,\u001b[49m\u001b[43m \u001b[49m\u001b[38;5;124;43m'\u001b[39;49m\u001b[38;5;124;43min_tissue\u001b[39;49m\u001b[38;5;124;43m'\u001b[39;49m\u001b[43m)\u001b[49m\n",
      "File \u001b[1;32mD:\\kasia\\napari-spatialdata\\src\\napari_spatialdata\\_scatterwidgets.py:216\u001b[0m, in \u001b[0;36mDiscreteColorWidget.__init__\u001b[1;34m(self, model, color_data)\u001b[0m\n\u001b[0;32m    213\u001b[0m \u001b[38;5;28;01mdef\u001b[39;00m \u001b[38;5;21m__init__\u001b[39m(\u001b[38;5;28mself\u001b[39m, model: DataModel, color_data: \u001b[38;5;28mdict\u001b[39m[\u001b[38;5;28mstr\u001b[39m, Any]):\n\u001b[0;32m    214\u001b[0m     \u001b[38;5;28msuper\u001b[39m()\u001b[38;5;241m.\u001b[39m\u001b[38;5;21m__init__\u001b[39m()\n\u001b[1;32m--> 216\u001b[0m     \u001b[38;5;28;43mself\u001b[39;49m\u001b[38;5;241;43m.\u001b[39;49m\u001b[43msetStyleSheet\u001b[49m(get_current_stylesheet())\n\u001b[0;32m    218\u001b[0m     \u001b[38;5;28mself\u001b[39m\u001b[38;5;241m.\u001b[39m_model \u001b[38;5;241m=\u001b[39m model\n\u001b[0;32m    220\u001b[0m     \u001b[38;5;28mself\u001b[39m\u001b[38;5;241m.\u001b[39mlayout \u001b[38;5;241m=\u001b[39m QtWidgets\u001b[38;5;241m.\u001b[39mQGraphicsLinearLayout(QtCore\u001b[38;5;241m.\u001b[39mQt\u001b[38;5;241m.\u001b[39mVertical)\n",
      "\u001b[1;31mAttributeError\u001b[0m: 'DiscreteColorWidget' object has no attribute 'setStyleSheet'"
     ]
    }
   ],
   "source": [
    "from napari_spatialdata._scatterwidgets import DiscreteColorWidget\n",
    "test = DiscreteColorWidget(adata, 'in_tissue')"
   ]
  },
  {
   "cell_type": "code",
   "execution_count": 115,
   "metadata": {},
   "outputs": [
    {
     "ename": "AttributeError",
     "evalue": "'int' object has no attribute 'isdigit'",
     "output_type": "error",
     "traceback": [
      "\u001b[1;31m---------------------------------------------------------------------------\u001b[0m",
      "\u001b[1;31mAttributeError\u001b[0m                            Traceback (most recent call last)",
      "Cell \u001b[1;32mIn[115], line 2\u001b[0m\n\u001b[0;32m      1\u001b[0m s\u001b[38;5;241m=\u001b[39m\u001b[38;5;241m1\u001b[39m\n\u001b[1;32m----> 2\u001b[0m \u001b[43ms\u001b[49m\u001b[38;5;241;43m.\u001b[39;49m\u001b[43misdigit\u001b[49m()\n",
      "\u001b[1;31mAttributeError\u001b[0m: 'int' object has no attribute 'isdigit'"
     ]
    }
   ],
   "source": [
    "s=1\n",
    "s.isdigit()"
   ]
  },
  {
   "cell_type": "code",
   "execution_count": 64,
   "metadata": {},
   "outputs": [],
   "source": [
    "from shapely.geometry import Point, Polygon\n",
    "\n",
    "roi = widget.plot_widget.roi_list[1]\n",
    "center_point = roi.getState()['pos']\n",
    "polygon_points = [x-center_point for x in roi.getState()['points']]\n",
    "polygon = Polygon(polygon_points)"
   ]
  },
  {
   "cell_type": "code",
   "execution_count": 81,
   "metadata": {},
   "outputs": [
    {
     "data": {
      "text/plain": [
       "{'pos': Point(2370.793948, 328.843555),\n",
       " 'size': Point(1.000000, 1.000000),\n",
       " 'angle': 0.0,\n",
       " 'closed': True,\n",
       " 'points': [Point(3024.935655, 7407.373459),\n",
       "  Point(2816.305788, 7129.121220),\n",
       "  Point(2636.125448, 6825.573323),\n",
       "  Point(2531.810514, 6344.955820),\n",
       "  Point(2512.844162, 5636.677395),\n",
       "  Point(2579.226393, 5156.059892),\n",
       "  Point(2721.474030, 4599.555415),\n",
       "  Point(2901.654370, 4296.007518),\n",
       "  Point(3148.216940, 4169.529228),\n",
       "  Point(3451.678566, 4296.007518),\n",
       "  Point(3745.657015, 4473.077124),\n",
       "  Point(3973.253234, 4700.738047),\n",
       "  Point(4124.984047, 5181.355550),\n",
       "  Point(4191.366277, 5889.633975),\n",
       "  Point(4219.815805, 6471.434111),\n",
       "  Point(4162.916750, 6977.347272),\n",
       "  Point(4020.669113, 7457.964775),\n",
       "  Point(3802.556070, 7635.034381),\n",
       "  Point(3603.409378, 7635.034381)]}"
      ]
     },
     "execution_count": 81,
     "metadata": {},
     "output_type": "execute_result"
    }
   ],
   "source": [
    "roi = widget.plot_widget.roi_list[0]\n",
    "roi.getState()"
   ]
  },
  {
   "cell_type": "code",
   "execution_count": 35,
   "metadata": {},
   "outputs": [],
   "source": [
    "from qtpy.QtCore import QSize, Qt\n",
    "\n",
    "item = widget.x_widget.widget.findItems('X_pca', Qt.MatchExactly)[0]\n",
    "widget.x_widget.widget.itemClicked.emit(item)"
   ]
  },
  {
   "cell_type": "code",
   "execution_count": 36,
   "metadata": {},
   "outputs": [],
   "source": [
    "widget.x_widget.widget.setCurrentItem(item)"
   ]
  },
  {
   "cell_type": "code",
   "execution_count": 37,
   "metadata": {},
   "outputs": [
    {
     "name": "stderr",
     "output_type": "stream",
     "text": [
      "\u001b[32m2024-06-26 15:34:16.445\u001b[0m | \u001b[1mINFO    \u001b[0m | \u001b[36mnapari_spatialdata._scatterwidgets\u001b[0m:\u001b[36mmousePressEvent\u001b[0m:\u001b[36m445\u001b[0m - \u001b[1mLeft press detected\u001b[0m\n",
      "\u001b[32m2024-06-26 15:34:16.600\u001b[0m | \u001b[1mINFO    \u001b[0m | \u001b[36mnapari_spatialdata._scatterwidgets\u001b[0m:\u001b[36mmouseReleaseEvent\u001b[0m:\u001b[36m519\u001b[0m - \u001b[1mLeft button released from drawing.\u001b[0m\n",
      "\u001b[32m2024-06-26 15:34:16.774\u001b[0m | \u001b[1mINFO    \u001b[0m | \u001b[36mnapari_spatialdata._scatterwidgets\u001b[0m:\u001b[36mmouseReleaseEvent\u001b[0m:\u001b[36m519\u001b[0m - \u001b[1mLeft button released from drawing.\u001b[0m\n",
      "\u001b[32m2024-06-26 15:34:18.482\u001b[0m | \u001b[1mINFO    \u001b[0m | \u001b[36mnapari_spatialdata._scatterwidgets\u001b[0m:\u001b[36mmousePressEvent\u001b[0m:\u001b[36m445\u001b[0m - \u001b[1mLeft press detected\u001b[0m\n",
      "\u001b[32m2024-06-26 15:34:18.616\u001b[0m | \u001b[1mINFO    \u001b[0m | \u001b[36mnapari_spatialdata._scatterwidgets\u001b[0m:\u001b[36mmouseReleaseEvent\u001b[0m:\u001b[36m519\u001b[0m - \u001b[1mLeft button released from drawing.\u001b[0m\n",
      "\u001b[32m2024-06-26 15:34:18.692\u001b[0m | \u001b[1mINFO    \u001b[0m | \u001b[36mnapari_spatialdata._scatterwidgets\u001b[0m:\u001b[36mmouseDoubleClickEvent\u001b[0m:\u001b[36m559\u001b[0m - \u001b[1mRemove <pyqtgraph.graphicsItems.ROI.PolyLineROI object at 0x000001DE971644C0>.\u001b[0m\n",
      "\u001b[32m2024-06-26 15:34:18.802\u001b[0m | \u001b[1mINFO    \u001b[0m | \u001b[36mnapari_spatialdata._scatterwidgets\u001b[0m:\u001b[36mmouseReleaseEvent\u001b[0m:\u001b[36m519\u001b[0m - \u001b[1mLeft button released from drawing.\u001b[0m\n",
      "\u001b[32m2024-06-26 15:34:19.986\u001b[0m | \u001b[1mINFO    \u001b[0m | \u001b[36mnapari_spatialdata._scatterwidgets\u001b[0m:\u001b[36mmousePressEvent\u001b[0m:\u001b[36m445\u001b[0m - \u001b[1mLeft press detected\u001b[0m\n",
      "\u001b[32m2024-06-26 15:34:20.674\u001b[0m | \u001b[1mINFO    \u001b[0m | \u001b[36mnapari_spatialdata._scatterwidgets\u001b[0m:\u001b[36mmouseReleaseEvent\u001b[0m:\u001b[36m519\u001b[0m - \u001b[1mLeft button released from drawing.\u001b[0m\n",
      "\u001b[32m2024-06-26 15:34:21.131\u001b[0m | \u001b[1mINFO    \u001b[0m | \u001b[36mnapari_spatialdata._scatterwidgets\u001b[0m:\u001b[36mmousePressEvent\u001b[0m:\u001b[36m445\u001b[0m - \u001b[1mLeft press detected\u001b[0m\n",
      "\u001b[32m2024-06-26 15:34:21.289\u001b[0m | \u001b[1mINFO    \u001b[0m | \u001b[36mnapari_spatialdata._scatterwidgets\u001b[0m:\u001b[36mmouseReleaseEvent\u001b[0m:\u001b[36m519\u001b[0m - \u001b[1mLeft button released from drawing.\u001b[0m\n",
      "\u001b[32m2024-06-26 15:34:21.368\u001b[0m | \u001b[1mINFO    \u001b[0m | \u001b[36mnapari_spatialdata._scatterwidgets\u001b[0m:\u001b[36mmouseDoubleClickEvent\u001b[0m:\u001b[36m559\u001b[0m - \u001b[1mRemove <pyqtgraph.graphicsItems.ROI.PolyLineROI object at 0x000001DE8FC2FEB0>.\u001b[0m\n",
      "\u001b[32m2024-06-26 15:34:21.491\u001b[0m | \u001b[1mINFO    \u001b[0m | \u001b[36mnapari_spatialdata._scatterwidgets\u001b[0m:\u001b[36mmouseReleaseEvent\u001b[0m:\u001b[36m519\u001b[0m - \u001b[1mLeft button released from drawing.\u001b[0m\n",
      "\u001b[32m2024-06-26 15:34:26.356\u001b[0m | \u001b[1mINFO    \u001b[0m | \u001b[36mnapari_spatialdata._scatterwidgets\u001b[0m:\u001b[36m_onOneClick\u001b[0m:\u001b[36m81\u001b[0m - \u001b[1m<napari_spatialdata._scatterwidgets.ScatterListWidget object at 0x000001DE97181480> is calling action\u001b[0m\n",
      "\u001b[32m2024-06-26 15:34:27.413\u001b[0m | \u001b[1mINFO    \u001b[0m | \u001b[36mnapari_spatialdata._scatterwidgets\u001b[0m:\u001b[36mget_brushes\u001b[0m:\u001b[36m388\u001b[0m - \u001b[1mGenerating brushes...\u001b[0m\n",
      "\u001b[32m2024-06-26 15:34:27.441\u001b[0m | \u001b[1mINFO    \u001b[0m | \u001b[36mnapari_spatialdata._scatterwidgets\u001b[0m:\u001b[36m_onClick\u001b[0m:\u001b[36m727\u001b[0m - \u001b[1mA change in x or y data has been detected.\u001b[0m\n",
      "\u001b[32m2024-06-26 15:34:27.442\u001b[0m | \u001b[1mINFO    \u001b[0m | \u001b[36mnapari_spatialdata._scatterwidgets\u001b[0m:\u001b[36mplot\u001b[0m:\u001b[36m763\u001b[0m - \u001b[1mGenerating scatter plot...\u001b[0m\n",
      "\u001b[32m2024-06-26 15:34:34.120\u001b[0m | \u001b[1mINFO    \u001b[0m | \u001b[36mnapari_spatialdata._scatterwidgets\u001b[0m:\u001b[36m_onClick\u001b[0m:\u001b[36m727\u001b[0m - \u001b[1mA change in x or y data has been detected.\u001b[0m\n",
      "\u001b[32m2024-06-26 15:34:34.121\u001b[0m | \u001b[1mINFO    \u001b[0m | \u001b[36mnapari_spatialdata._scatterwidgets\u001b[0m:\u001b[36mplot\u001b[0m:\u001b[36m763\u001b[0m - \u001b[1mGenerating scatter plot...\u001b[0m\n",
      "\u001b[32m2024-06-26 15:34:37.287\u001b[0m | \u001b[1mINFO    \u001b[0m | \u001b[36mnapari_spatialdata._scatterwidgets\u001b[0m:\u001b[36mmousePressEvent\u001b[0m:\u001b[36m445\u001b[0m - \u001b[1mLeft press detected\u001b[0m\n",
      "\u001b[32m2024-06-26 15:34:38.113\u001b[0m | \u001b[1mINFO    \u001b[0m | \u001b[36mnapari_spatialdata._scatterwidgets\u001b[0m:\u001b[36mmouseReleaseEvent\u001b[0m:\u001b[36m519\u001b[0m - \u001b[1mLeft button released from drawing.\u001b[0m\n",
      "\u001b[32m2024-06-26 15:34:39.293\u001b[0m | \u001b[1mINFO    \u001b[0m | \u001b[36mnapari_spatialdata._scatterwidgets\u001b[0m:\u001b[36mmousePressEvent\u001b[0m:\u001b[36m445\u001b[0m - \u001b[1mLeft press detected\u001b[0m\n",
      "\u001b[32m2024-06-26 15:34:39.947\u001b[0m | \u001b[1mINFO    \u001b[0m | \u001b[36mnapari_spatialdata._scatterwidgets\u001b[0m:\u001b[36mmouseReleaseEvent\u001b[0m:\u001b[36m519\u001b[0m - \u001b[1mLeft button released from drawing.\u001b[0m\n",
      "\u001b[32m2024-06-26 15:34:40.768\u001b[0m | \u001b[1mINFO    \u001b[0m | \u001b[36mnapari_spatialdata._scatterwidgets\u001b[0m:\u001b[36mmousePressEvent\u001b[0m:\u001b[36m445\u001b[0m - \u001b[1mLeft press detected\u001b[0m\n",
      "\u001b[32m2024-06-26 15:34:41.312\u001b[0m | \u001b[1mINFO    \u001b[0m | \u001b[36mnapari_spatialdata._scatterwidgets\u001b[0m:\u001b[36mmouseReleaseEvent\u001b[0m:\u001b[36m519\u001b[0m - \u001b[1mLeft button released from drawing.\u001b[0m\n",
      "\u001b[32m2024-06-26 15:34:45.350\u001b[0m | \u001b[1mINFO    \u001b[0m | \u001b[36mnapari_spatialdata._scatterwidgets\u001b[0m:\u001b[36mmouseDoubleClickEvent\u001b[0m:\u001b[36m559\u001b[0m - \u001b[1mRemove <pyqtgraph.graphicsItems.ROI.PolyLineROI object at 0x000001DE8FC42560>.\u001b[0m\n",
      "\u001b[32m2024-06-26 15:34:46.770\u001b[0m | \u001b[1mINFO    \u001b[0m | \u001b[36mnapari_spatialdata._scatterwidgets\u001b[0m:\u001b[36mmouseDoubleClickEvent\u001b[0m:\u001b[36m559\u001b[0m - \u001b[1mRemove <pyqtgraph.graphicsItems.ROI.PolyLineROI object at 0x000001DE8FC2CA60>.\u001b[0m\n",
      "\u001b[32m2024-06-26 15:34:48.493\u001b[0m | \u001b[1mINFO    \u001b[0m | \u001b[36mnapari_spatialdata._scatterwidgets\u001b[0m:\u001b[36mmouseDoubleClickEvent\u001b[0m:\u001b[36m559\u001b[0m - \u001b[1mRemove <pyqtgraph.graphicsItems.ROI.PolyLineROI object at 0x000001DE8FFED7E0>.\u001b[0m\n",
      "\u001b[32m2024-06-26 15:35:02.554\u001b[0m | \u001b[1mINFO    \u001b[0m | \u001b[36mnapari_spatialdata._scatterwidgets\u001b[0m:\u001b[36mmousePressEvent\u001b[0m:\u001b[36m445\u001b[0m - \u001b[1mLeft press detected\u001b[0m\n",
      "\u001b[32m2024-06-26 15:35:03.905\u001b[0m | \u001b[1mINFO    \u001b[0m | \u001b[36mnapari_spatialdata._scatterwidgets\u001b[0m:\u001b[36mmouseReleaseEvent\u001b[0m:\u001b[36m519\u001b[0m - \u001b[1mLeft button released from drawing.\u001b[0m\n",
      "\u001b[32m2024-06-26 15:35:17.340\u001b[0m | \u001b[1mINFO    \u001b[0m | \u001b[36mnapari_spatialdata._scatterwidgets\u001b[0m:\u001b[36m_onOneClick\u001b[0m:\u001b[36m81\u001b[0m - \u001b[1m<napari_spatialdata._scatterwidgets.ScatterListWidget object at 0x000001DE97181480> is calling action\u001b[0m\n",
      "\u001b[32m2024-06-26 15:35:19.240\u001b[0m | \u001b[1mINFO    \u001b[0m | \u001b[36mnapari_spatialdata._scatterwidgets\u001b[0m:\u001b[36mget_brushes\u001b[0m:\u001b[36m388\u001b[0m - \u001b[1mGenerating brushes...\u001b[0m\n",
      "\u001b[32m2024-06-26 15:35:19.271\u001b[0m | \u001b[1mINFO    \u001b[0m | \u001b[36mnapari_spatialdata._scatterwidgets\u001b[0m:\u001b[36mplot\u001b[0m:\u001b[36m763\u001b[0m - \u001b[1mGenerating scatter plot...\u001b[0m\n",
      "\u001b[32m2024-06-26 15:36:29.103\u001b[0m | \u001b[1mINFO    \u001b[0m | \u001b[36mnapari_spatialdata._scatterwidgets\u001b[0m:\u001b[36m_onOneClick\u001b[0m:\u001b[36m81\u001b[0m - \u001b[1m<napari_spatialdata._scatterwidgets.ScatterListWidget object at 0x000001DE97181480> is calling action\u001b[0m\n",
      "\u001b[32m2024-06-26 15:36:30.654\u001b[0m | \u001b[1mINFO    \u001b[0m | \u001b[36mnapari_spatialdata._scatterwidgets\u001b[0m:\u001b[36mget_brushes\u001b[0m:\u001b[36m388\u001b[0m - \u001b[1mGenerating brushes...\u001b[0m\n",
      "\u001b[32m2024-06-26 15:36:30.680\u001b[0m | \u001b[1mINFO    \u001b[0m | \u001b[36mnapari_spatialdata._scatterwidgets\u001b[0m:\u001b[36mplot\u001b[0m:\u001b[36m763\u001b[0m - \u001b[1mGenerating scatter plot...\u001b[0m\n",
      "\u001b[32m2024-06-26 15:39:25.335\u001b[0m | \u001b[1mINFO    \u001b[0m | \u001b[36mnapari_spatialdata._scatterwidgets\u001b[0m:\u001b[36mmousePressEvent\u001b[0m:\u001b[36m445\u001b[0m - \u001b[1mLeft press detected\u001b[0m\n",
      "\u001b[32m2024-06-26 15:39:25.335\u001b[0m | \u001b[1mINFO    \u001b[0m | \u001b[36mnapari_spatialdata._scatterwidgets\u001b[0m:\u001b[36mmousePressEvent\u001b[0m:\u001b[36m466\u001b[0m - \u001b[1mRectangle\u001b[0m\n",
      "\u001b[32m2024-06-26 15:39:27.214\u001b[0m | \u001b[1mINFO    \u001b[0m | \u001b[36mnapari_spatialdata._scatterwidgets\u001b[0m:\u001b[36mmouseReleaseEvent\u001b[0m:\u001b[36m531\u001b[0m - \u001b[1mLeft button released from rectangle.\u001b[0m\n",
      "\u001b[32m2024-06-26 15:39:31.463\u001b[0m | \u001b[1mINFO    \u001b[0m | \u001b[36mnapari_spatialdata._scatterwidgets\u001b[0m:\u001b[36mmousePressEvent\u001b[0m:\u001b[36m445\u001b[0m - \u001b[1mLeft press detected\u001b[0m\n",
      "\u001b[32m2024-06-26 15:39:31.463\u001b[0m | \u001b[1mINFO    \u001b[0m | \u001b[36mnapari_spatialdata._scatterwidgets\u001b[0m:\u001b[36mmousePressEvent\u001b[0m:\u001b[36m466\u001b[0m - \u001b[1mRectangle\u001b[0m\n",
      "\u001b[32m2024-06-26 15:39:31.612\u001b[0m | \u001b[1mINFO    \u001b[0m | \u001b[36mnapari_spatialdata._scatterwidgets\u001b[0m:\u001b[36mmouseReleaseEvent\u001b[0m:\u001b[36m531\u001b[0m - \u001b[1mLeft button released from rectangle.\u001b[0m\n",
      "\u001b[32m2024-06-26 15:39:31.652\u001b[0m | \u001b[1mINFO    \u001b[0m | \u001b[36mnapari_spatialdata._scatterwidgets\u001b[0m:\u001b[36mmouseDoubleClickEvent\u001b[0m:\u001b[36m559\u001b[0m - \u001b[1mRemove <pyqtgraph.graphicsItems.ROI.RectROI object at 0x000001DE96639480>.\u001b[0m\n",
      "\u001b[32m2024-06-26 15:39:31.791\u001b[0m | \u001b[1mINFO    \u001b[0m | \u001b[36mnapari_spatialdata._scatterwidgets\u001b[0m:\u001b[36mmouseReleaseEvent\u001b[0m:\u001b[36m531\u001b[0m - \u001b[1mLeft button released from rectangle.\u001b[0m\n",
      "\u001b[32m2024-06-26 15:41:34.957\u001b[0m | \u001b[1mINFO    \u001b[0m | \u001b[36mnapari_spatialdata._scatterwidgets\u001b[0m:\u001b[36mmouseDoubleClickEvent\u001b[0m:\u001b[36m559\u001b[0m - \u001b[1mRemove <pyqtgraph.graphicsItems.ROI.RectROI object at 0x000001DE96BFC4C0>.\u001b[0m\n"
     ]
    }
   ],
   "source": [
    "widget.x_widget.widget.chosen = 'X_pca'"
   ]
  },
  {
   "cell_type": "code",
   "execution_count": 30,
   "metadata": {},
   "outputs": [
    {
     "data": {
      "text/plain": [
       "0"
      ]
     },
     "execution_count": 30,
     "metadata": {},
     "output_type": "execute_result"
    },
    {
     "name": "stderr",
     "output_type": "stream",
     "text": [
      "\u001b[32m2024-06-26 14:57:21.896\u001b[0m | \u001b[1mINFO    \u001b[0m | \u001b[36mnapari_spatialdata._scatterwidgets\u001b[0m:\u001b[36m_onOneClick\u001b[0m:\u001b[36m81\u001b[0m - \u001b[1m<napari_spatialdata._scatterwidgets.ScatterListWidget object at 0x0000020432200940> is calling action\u001b[0m\n",
      "\u001b[32m2024-06-26 14:57:27.534\u001b[0m | \u001b[1mINFO    \u001b[0m | \u001b[36mnapari_spatialdata._scatterwidgets\u001b[0m:\u001b[36mmousePressEvent\u001b[0m:\u001b[36m445\u001b[0m - \u001b[1mLeft press detected\u001b[0m\n",
      "\u001b[32m2024-06-26 14:57:28.420\u001b[0m | \u001b[1mINFO    \u001b[0m | \u001b[36mnapari_spatialdata._scatterwidgets\u001b[0m:\u001b[36mmouseReleaseEvent\u001b[0m:\u001b[36m519\u001b[0m - \u001b[1mLeft button released from drawing.\u001b[0m\n"
     ]
    }
   ],
   "source": [
    "widget.x_widget.widget.text =0\n",
    "widget.x_widget.widget.text"
   ]
  },
  {
   "cell_type": "code",
   "execution_count": 26,
   "metadata": {},
   "outputs": [
    {
     "data": {
      "text/plain": [
       "'obsm'"
      ]
     },
     "execution_count": 26,
     "metadata": {},
     "output_type": "execute_result"
    }
   ],
   "source": [
    "widget.x_widget.widget.getAttribute()"
   ]
  },
  {
   "cell_type": "code",
   "execution_count": 71,
   "metadata": {},
   "outputs": [
    {
     "data": {
      "text/plain": [
       "[(1.0, 1.0)]"
      ]
     },
     "execution_count": 71,
     "metadata": {},
     "output_type": "execute_result"
    }
   ],
   "source": [
    "roi = widget.plot_widget.roi_list[2]\n",
    "[(x[1][0],x[1][1]) for x in roi.getLocalHandlePositions()]"
   ]
  },
  {
   "cell_type": "code",
   "execution_count": 68,
   "metadata": {},
   "outputs": [
    {
     "data": {
      "text/plain": [
       "[<pyqtgraph.graphicsItems.ROI.PolyLineROI at 0x22ab0de1a20>,\n",
       " <pyqtgraph.graphicsItems.ROI.PolyLineROI at 0x22aac8605e0>]"
      ]
     },
     "execution_count": 68,
     "metadata": {},
     "output_type": "execute_result"
    }
   ],
   "source": [
    "widget.plot_widget.roi_list"
   ]
  },
  {
   "cell_type": "code",
   "execution_count": 55,
   "metadata": {},
   "outputs": [],
   "source": [
    "roi = widget.plot_widget.roi_list[1]\n",
    "pos = roi.pos()\n",
    "size = roi.size()"
   ]
  },
  {
   "cell_type": "code",
   "execution_count": 59,
   "metadata": {},
   "outputs": [
    {
     "data": {
      "text/plain": [
       "891.4185243428856"
      ]
     },
     "execution_count": 59,
     "metadata": {},
     "output_type": "execute_result"
    }
   ],
   "source": [
    "size[0]"
   ]
  },
  {
   "cell_type": "code",
   "execution_count": 40,
   "metadata": {},
   "outputs": [
    {
     "data": {
      "text/plain": [
       "False"
      ]
     },
     "execution_count": 40,
     "metadata": {},
     "output_type": "execute_result"
    }
   ],
   "source": [
    "import pyqtgraph as pg\n",
    "from qtpy.QtCore import QSize, Qt, Signal, QPointF\n",
    "type(roi) == pg.graphicsItems.ROI.PolyLineROI"
   ]
  },
  {
   "cell_type": "code",
   "execution_count": 49,
   "metadata": {},
   "outputs": [
    {
     "data": {
      "text/plain": [
       "pyqtgraph.graphicsItems.ROI.RectROI"
      ]
     },
     "execution_count": 49,
     "metadata": {},
     "output_type": "execute_result"
    }
   ],
   "source": [
    "type(roi)"
   ]
  },
  {
   "cell_type": "code",
   "execution_count": 42,
   "metadata": {},
   "outputs": [
    {
     "data": {
      "text/plain": [
       "False"
      ]
     },
     "execution_count": 42,
     "metadata": {},
     "output_type": "execute_result"
    }
   ],
   "source": [
    "roi.contains(QPointF(6000,6000))"
   ]
  },
  {
   "cell_type": "code",
   "execution_count": 48,
   "metadata": {},
   "outputs": [],
   "source": [
    "import numpy as np\n",
    "from PyQt5.QtCore import QPointF\n",
    "\n",
    "boolean_vector = np.zeros(len(widget.plot_widget.scatter.xData), dtype=bool)\n",
    "\n",
    "for i, (x, y) in enumerate(zip(widget.plot_widget.scatter.xData, widget.plot_widget.scatter.yData)):\n",
    "    point = QPointF(x, y)\n",
    "    # Check if the point belongs to any ROI\n",
    "    for roi in widget.plot_widget.roi_list:\n",
    "        if roi.contains(point):\n",
    "            boolean_vector[i] = True\n",
    "            break "
   ]
  },
  {
   "cell_type": "code",
   "execution_count": 50,
   "metadata": {},
   "outputs": [
    {
     "data": {
      "text/plain": [
       "2688"
      ]
     },
     "execution_count": 50,
     "metadata": {},
     "output_type": "execute_result"
    }
   ],
   "source": [
    "len(\n",
    "boolean_vector)"
   ]
  },
  {
   "cell_type": "code",
   "execution_count": null,
   "metadata": {},
   "outputs": [],
   "source": [
    "plt.imshow(widget.screenshot())\n",
    "plt.axis('off')"
   ]
  },
  {
   "attachments": {},
   "cell_type": "markdown",
   "metadata": {},
   "source": [
    "Some examples of scatterplots:"
   ]
  },
  {
   "cell_type": "code",
   "execution_count": null,
   "metadata": {},
   "outputs": [],
   "source": [
    "plt.imshow(widget.screenshot())\n",
    "plt.axis('off')"
   ]
  },
  {
   "cell_type": "code",
   "execution_count": null,
   "metadata": {},
   "outputs": [],
   "source": [
    "plt.imshow(widget.screenshot())\n",
    "plt.axis('off')"
   ]
  }
 ],
 "metadata": {
  "kernelspec": {
   "display_name": "napari",
   "language": "python",
   "name": "python3"
  },
  "language_info": {
   "codemirror_mode": {
    "name": "ipython",
    "version": 3
   },
   "file_extension": ".py",
   "mimetype": "text/x-python",
   "name": "python",
   "nbconvert_exporter": "python",
   "pygments_lexer": "ipython3",
   "version": "3.10.14"
  },
  "orig_nbformat": 4
 },
 "nbformat": 4,
 "nbformat_minor": 2
}
