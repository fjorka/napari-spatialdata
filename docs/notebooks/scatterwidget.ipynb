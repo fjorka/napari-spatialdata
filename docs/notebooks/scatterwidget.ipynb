{
 "cells": [
  {
   "attachments": {},
   "cell_type": "markdown",
   "metadata": {},
   "source": [
    "# Use the Scatterwidget with AnnData from Notebook"
   ]
  },
  {
   "attachments": {},
   "cell_type": "markdown",
   "metadata": {},
   "source": [
    "This tutorial is an example of how to use the Napari-Spatialdata ScatterWidget from a notebook."
   ]
  },
  {
   "cell_type": "markdown",
   "metadata": {},
   "source": [
    "## Import packages and data"
   ]
  },
  {
   "attachments": {},
   "cell_type": "markdown",
   "metadata": {},
   "source": [
    "There are two options to install napari-spatialdata:\n",
    "\n",
    "(1) Run `pip install napari-spatialdata`\n",
    "\n",
    "or, \n",
    "\n",
    "(2) Clone this [repo](https://github.com/scverse/napari-spatialdata) and run `pip install -e .`"
   ]
  },
  {
   "cell_type": "code",
   "execution_count": 8,
   "metadata": {},
   "outputs": [
    {
     "name": "stdout",
     "output_type": "stream",
     "text": [
      "The autoreload extension is already loaded. To reload it, use:\n",
      "  %reload_ext autoreload\n"
     ]
    }
   ],
   "source": [
    "%load_ext autoreload\n",
    "%autoreload 2\n",
    "\n",
    "from napari_spatialdata import QtAdataScatterWidget\n",
    "import squidpy as sq\n",
    "import matplotlib.pyplot as plt"
   ]
  },
  {
   "attachments": {},
   "cell_type": "markdown",
   "metadata": {},
   "source": [
    "Load in the AnnData:"
   ]
  },
  {
   "cell_type": "code",
   "execution_count": 2,
   "metadata": {},
   "outputs": [],
   "source": [
    "adata = sq.datasets.visium_hne_adata()"
   ]
  },
  {
   "attachments": {},
   "cell_type": "markdown",
   "metadata": {},
   "source": [
    "The following line is needed to initialize a widget without a QApplication:"
   ]
  },
  {
   "cell_type": "code",
   "execution_count": 3,
   "metadata": {},
   "outputs": [],
   "source": [
    "%gui qt5"
   ]
  },
  {
   "attachments": {},
   "cell_type": "markdown",
   "metadata": {},
   "source": [
    "Open the ScatterWidget:"
   ]
  },
  {
   "cell_type": "code",
   "execution_count": 16,
   "metadata": {},
   "outputs": [
    {
     "name": "stderr",
     "output_type": "stream",
     "text": [
      "\u001b[32m2024-06-25 16:01:24.162\u001b[0m | \u001b[1mINFO    \u001b[0m | \u001b[36mnapari_spatialdata._scatterwidgets\u001b[0m:\u001b[36m_onClick\u001b[0m:\u001b[36m722\u001b[0m - \u001b[1mA change in x or y data has been detected.\u001b[0m\n",
      "\u001b[32m2024-06-25 16:01:24.163\u001b[0m | \u001b[1mINFO    \u001b[0m | \u001b[36mnapari_spatialdata._scatterwidgets\u001b[0m:\u001b[36mplot\u001b[0m:\u001b[36m758\u001b[0m - \u001b[1mGenerating scatter plot...\u001b[0m\n",
      "\u001b[32m2024-06-25 16:01:26.232\u001b[0m | \u001b[1mINFO    \u001b[0m | \u001b[36mnapari_spatialdata._scatterwidgets\u001b[0m:\u001b[36mmousePressEvent\u001b[0m:\u001b[36m445\u001b[0m - \u001b[1mLeft press detected\u001b[0m\n",
      "\u001b[32m2024-06-25 16:01:28.165\u001b[0m | \u001b[1mINFO    \u001b[0m | \u001b[36mnapari_spatialdata._scatterwidgets\u001b[0m:\u001b[36mmouseReleaseEvent\u001b[0m:\u001b[36m519\u001b[0m - \u001b[1mLeft button released from drawing.\u001b[0m\n",
      "\u001b[32m2024-06-25 16:01:36.982\u001b[0m | \u001b[1mINFO    \u001b[0m | \u001b[36mnapari_spatialdata._scatterwidgets\u001b[0m:\u001b[36m_onOneClick\u001b[0m:\u001b[36m81\u001b[0m - \u001b[1m<napari_spatialdata._scatterwidgets.ScatterListWidget object at 0x000001D01C2DF0A0> is calling action\u001b[0m\n",
      "\u001b[32m2024-06-25 16:01:40.136\u001b[0m | \u001b[1mINFO    \u001b[0m | \u001b[36mnapari_spatialdata._scatterwidgets\u001b[0m:\u001b[36mget_brushes\u001b[0m:\u001b[36m388\u001b[0m - \u001b[1mGenerating brushes...\u001b[0m\n",
      "\u001b[32m2024-06-25 16:01:40.162\u001b[0m | \u001b[1mINFO    \u001b[0m | \u001b[36mnapari_spatialdata._scatterwidgets\u001b[0m:\u001b[36mplot\u001b[0m:\u001b[36m758\u001b[0m - \u001b[1mGenerating scatter plot...\u001b[0m\n"
     ]
    }
   ],
   "source": [
    "widget = QtAdataScatterWidget(adata)\n",
    "widget.show()"
   ]
  },
  {
   "cell_type": "code",
   "execution_count": 13,
   "metadata": {},
   "outputs": [],
   "source": [
    "widget.plot_widget.scatter_plot.addItem(widget.plot_widget.roi_list[0])"
   ]
  },
  {
   "cell_type": "code",
   "execution_count": 15,
   "metadata": {},
   "outputs": [
    {
     "data": {
      "text/plain": [
       "[]"
      ]
     },
     "execution_count": 15,
     "metadata": {},
     "output_type": "execute_result"
    },
    {
     "name": "stderr",
     "output_type": "stream",
     "text": [
      "\u001b[32m2024-06-25 15:48:34.591\u001b[0m | \u001b[1mINFO    \u001b[0m | \u001b[36mnapari_spatialdata._scatterwidgets\u001b[0m:\u001b[36mmousePressEvent\u001b[0m:\u001b[36m444\u001b[0m - \u001b[1mLeft press detected\u001b[0m\n",
      "\u001b[32m2024-06-25 15:48:37.256\u001b[0m | \u001b[1mINFO    \u001b[0m | \u001b[36mnapari_spatialdata._scatterwidgets\u001b[0m:\u001b[36mmouseReleaseEvent\u001b[0m:\u001b[36m518\u001b[0m - \u001b[1mLeft button released from drawing.\u001b[0m\n",
      "\u001b[32m2024-06-25 15:48:50.569\u001b[0m | \u001b[1mINFO    \u001b[0m | \u001b[36mnapari_spatialdata._scatterwidgets\u001b[0m:\u001b[36m_onOneClick\u001b[0m:\u001b[36m80\u001b[0m - \u001b[1m<napari_spatialdata._scatterwidgets.ScatterListWidget object at 0x000001D02159CDC0> is calling action\u001b[0m\n",
      "\u001b[32m2024-06-25 15:48:53.619\u001b[0m | \u001b[1mINFO    \u001b[0m | \u001b[36mnapari_spatialdata._scatterwidgets\u001b[0m:\u001b[36mget_brushes\u001b[0m:\u001b[36m387\u001b[0m - \u001b[1mGenerating brushes...\u001b[0m\n",
      "\u001b[32m2024-06-25 15:48:53.646\u001b[0m | \u001b[1mINFO    \u001b[0m | \u001b[36mnapari_spatialdata._scatterwidgets\u001b[0m:\u001b[36mplot\u001b[0m:\u001b[36m757\u001b[0m - \u001b[1mGenerating scatter plot...\u001b[0m\n"
     ]
    }
   ],
   "source": [
    "widget.plot_widget.roi_list"
   ]
  },
  {
   "cell_type": "code",
   "execution_count": 8,
   "metadata": {},
   "outputs": [
    {
     "data": {
      "text/plain": [
       "array([False, False, False, ..., False, False, False])"
      ]
     },
     "execution_count": 8,
     "metadata": {},
     "output_type": "execute_result"
    }
   ],
   "source": [
    "widget.plot_widget.add"
   ]
  },
  {
   "cell_type": "code",
   "execution_count": 48,
   "metadata": {},
   "outputs": [],
   "source": [
    "import numpy as np\n",
    "from PyQt5.QtCore import QPointF\n",
    "\n",
    "boolean_vector = np.zeros(len(widget.plot_widget.scatter.xData), dtype=bool)\n",
    "\n",
    "for i, (x, y) in enumerate(zip(widget.plot_widget.scatter.xData, widget.plot_widget.scatter.yData)):\n",
    "    point = QPointF(x, y)\n",
    "    # Check if the point belongs to any ROI\n",
    "    for roi in widget.plot_widget.roi_list:\n",
    "        if roi.contains(point):\n",
    "            boolean_vector[i] = True\n",
    "            break "
   ]
  },
  {
   "cell_type": "code",
   "execution_count": 50,
   "metadata": {},
   "outputs": [
    {
     "data": {
      "text/plain": [
       "2688"
      ]
     },
     "execution_count": 50,
     "metadata": {},
     "output_type": "execute_result"
    }
   ],
   "source": [
    "len(\n",
    "boolean_vector)"
   ]
  },
  {
   "cell_type": "code",
   "execution_count": null,
   "metadata": {},
   "outputs": [],
   "source": [
    "plt.imshow(widget.screenshot())\n",
    "plt.axis('off')"
   ]
  },
  {
   "attachments": {},
   "cell_type": "markdown",
   "metadata": {},
   "source": [
    "Some examples of scatterplots:"
   ]
  },
  {
   "cell_type": "code",
   "execution_count": null,
   "metadata": {},
   "outputs": [],
   "source": [
    "plt.imshow(widget.screenshot())\n",
    "plt.axis('off')"
   ]
  },
  {
   "cell_type": "code",
   "execution_count": null,
   "metadata": {},
   "outputs": [],
   "source": [
    "plt.imshow(widget.screenshot())\n",
    "plt.axis('off')"
   ]
  }
 ],
 "metadata": {
  "kernelspec": {
   "display_name": "napari",
   "language": "python",
   "name": "python3"
  },
  "language_info": {
   "codemirror_mode": {
    "name": "ipython",
    "version": 3
   },
   "file_extension": ".py",
   "mimetype": "text/x-python",
   "name": "python",
   "nbconvert_exporter": "python",
   "pygments_lexer": "ipython3",
   "version": "3.10.14"
  },
  "orig_nbformat": 4
 },
 "nbformat": 4,
 "nbformat_minor": 2
}
